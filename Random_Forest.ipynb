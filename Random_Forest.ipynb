{
  "nbformat": 4,
  "nbformat_minor": 0,
  "metadata": {
    "colab": {
      "name": "Random_Forest.ipynb",
      "provenance": [],
      "authorship_tag": "ABX9TyMU4EPcnRp899Ib5BM+Nz6P",
      "include_colab_link": true
    },
    "kernelspec": {
      "name": "python3",
      "display_name": "Python 3"
    },
    "language_info": {
      "name": "python"
    }
  },
  "cells": [
    {
      "cell_type": "markdown",
      "metadata": {
        "id": "view-in-github",
        "colab_type": "text"
      },
      "source": [
        "<a href=\"https://colab.research.google.com/github/sabahomarkm/Improved-Cyber-Attack-Detection-using-Machine-Learning/blob/main/Random_Forest.ipynb\" target=\"_parent\"><img src=\"https://colab.research.google.com/assets/colab-badge.svg\" alt=\"Open In Colab\"/></a>"
      ]
    },
    {
      "cell_type": "code",
      "metadata": {
        "colab": {
          "base_uri": "https://localhost:8080/"
        },
        "id": "4dQ38qU0Mz8A",
        "outputId": "22a6e454-840e-4edf-abd0-38a57ebf3a94"
      },
      "source": [
        "!pip install tensorflow-gpu"
      ],
      "execution_count": 1,
      "outputs": [
        {
          "output_type": "stream",
          "text": [
            "Collecting tensorflow-gpu\n",
            "\u001b[?25l  Downloading https://files.pythonhosted.org/packages/1d/a2/5ccf0a418eb22e0a2ae9edc1e7f5456d0a4b8b49524572897564b4030a9b/tensorflow_gpu-2.5.0-cp37-cp37m-manylinux2010_x86_64.whl (454.3MB)\n",
            "\u001b[K     |████████████████████████████████| 454.3MB 35kB/s \n",
            "\u001b[?25hRequirement already satisfied: astunparse~=1.6.3 in /usr/local/lib/python3.7/dist-packages (from tensorflow-gpu) (1.6.3)\n",
            "Requirement already satisfied: wrapt~=1.12.1 in /usr/local/lib/python3.7/dist-packages (from tensorflow-gpu) (1.12.1)\n",
            "Requirement already satisfied: keras-nightly~=2.5.0.dev in /usr/local/lib/python3.7/dist-packages (from tensorflow-gpu) (2.5.0.dev2021032900)\n",
            "Requirement already satisfied: tensorflow-estimator<2.6.0,>=2.5.0rc0 in /usr/local/lib/python3.7/dist-packages (from tensorflow-gpu) (2.5.0)\n",
            "Requirement already satisfied: keras-preprocessing~=1.1.2 in /usr/local/lib/python3.7/dist-packages (from tensorflow-gpu) (1.1.2)\n",
            "Requirement already satisfied: typing-extensions~=3.7.4 in /usr/local/lib/python3.7/dist-packages (from tensorflow-gpu) (3.7.4.3)\n",
            "Requirement already satisfied: grpcio~=1.34.0 in /usr/local/lib/python3.7/dist-packages (from tensorflow-gpu) (1.34.1)\n",
            "Requirement already satisfied: six~=1.15.0 in /usr/local/lib/python3.7/dist-packages (from tensorflow-gpu) (1.15.0)\n",
            "Requirement already satisfied: flatbuffers~=1.12.0 in /usr/local/lib/python3.7/dist-packages (from tensorflow-gpu) (1.12)\n",
            "Requirement already satisfied: numpy~=1.19.2 in /usr/local/lib/python3.7/dist-packages (from tensorflow-gpu) (1.19.5)\n",
            "Requirement already satisfied: protobuf>=3.9.2 in /usr/local/lib/python3.7/dist-packages (from tensorflow-gpu) (3.12.4)\n",
            "Requirement already satisfied: h5py~=3.1.0 in /usr/local/lib/python3.7/dist-packages (from tensorflow-gpu) (3.1.0)\n",
            "Requirement already satisfied: gast==0.4.0 in /usr/local/lib/python3.7/dist-packages (from tensorflow-gpu) (0.4.0)\n",
            "Requirement already satisfied: termcolor~=1.1.0 in /usr/local/lib/python3.7/dist-packages (from tensorflow-gpu) (1.1.0)\n",
            "Requirement already satisfied: opt-einsum~=3.3.0 in /usr/local/lib/python3.7/dist-packages (from tensorflow-gpu) (3.3.0)\n",
            "Requirement already satisfied: wheel~=0.35 in /usr/local/lib/python3.7/dist-packages (from tensorflow-gpu) (0.36.2)\n",
            "Requirement already satisfied: absl-py~=0.10 in /usr/local/lib/python3.7/dist-packages (from tensorflow-gpu) (0.12.0)\n",
            "Requirement already satisfied: google-pasta~=0.2 in /usr/local/lib/python3.7/dist-packages (from tensorflow-gpu) (0.2.0)\n",
            "Requirement already satisfied: tensorboard~=2.5 in /usr/local/lib/python3.7/dist-packages (from tensorflow-gpu) (2.5.0)\n",
            "Requirement already satisfied: setuptools in /usr/local/lib/python3.7/dist-packages (from protobuf>=3.9.2->tensorflow-gpu) (57.0.0)\n",
            "Requirement already satisfied: cached-property; python_version < \"3.8\" in /usr/local/lib/python3.7/dist-packages (from h5py~=3.1.0->tensorflow-gpu) (1.5.2)\n",
            "Requirement already satisfied: google-auth<2,>=1.6.3 in /usr/local/lib/python3.7/dist-packages (from tensorboard~=2.5->tensorflow-gpu) (1.31.0)\n",
            "Requirement already satisfied: tensorboard-plugin-wit>=1.6.0 in /usr/local/lib/python3.7/dist-packages (from tensorboard~=2.5->tensorflow-gpu) (1.8.0)\n",
            "Requirement already satisfied: google-auth-oauthlib<0.5,>=0.4.1 in /usr/local/lib/python3.7/dist-packages (from tensorboard~=2.5->tensorflow-gpu) (0.4.4)\n",
            "Requirement already satisfied: markdown>=2.6.8 in /usr/local/lib/python3.7/dist-packages (from tensorboard~=2.5->tensorflow-gpu) (3.3.4)\n",
            "Requirement already satisfied: werkzeug>=0.11.15 in /usr/local/lib/python3.7/dist-packages (from tensorboard~=2.5->tensorflow-gpu) (1.0.1)\n",
            "Requirement already satisfied: tensorboard-data-server<0.7.0,>=0.6.0 in /usr/local/lib/python3.7/dist-packages (from tensorboard~=2.5->tensorflow-gpu) (0.6.1)\n",
            "Requirement already satisfied: requests<3,>=2.21.0 in /usr/local/lib/python3.7/dist-packages (from tensorboard~=2.5->tensorflow-gpu) (2.23.0)\n",
            "Requirement already satisfied: rsa<5,>=3.1.4; python_version >= \"3.6\" in /usr/local/lib/python3.7/dist-packages (from google-auth<2,>=1.6.3->tensorboard~=2.5->tensorflow-gpu) (4.7.2)\n",
            "Requirement already satisfied: cachetools<5.0,>=2.0.0 in /usr/local/lib/python3.7/dist-packages (from google-auth<2,>=1.6.3->tensorboard~=2.5->tensorflow-gpu) (4.2.2)\n",
            "Requirement already satisfied: pyasn1-modules>=0.2.1 in /usr/local/lib/python3.7/dist-packages (from google-auth<2,>=1.6.3->tensorboard~=2.5->tensorflow-gpu) (0.2.8)\n",
            "Requirement already satisfied: requests-oauthlib>=0.7.0 in /usr/local/lib/python3.7/dist-packages (from google-auth-oauthlib<0.5,>=0.4.1->tensorboard~=2.5->tensorflow-gpu) (1.3.0)\n",
            "Requirement already satisfied: importlib-metadata; python_version < \"3.8\" in /usr/local/lib/python3.7/dist-packages (from markdown>=2.6.8->tensorboard~=2.5->tensorflow-gpu) (4.5.0)\n",
            "Requirement already satisfied: idna<3,>=2.5 in /usr/local/lib/python3.7/dist-packages (from requests<3,>=2.21.0->tensorboard~=2.5->tensorflow-gpu) (2.10)\n",
            "Requirement already satisfied: chardet<4,>=3.0.2 in /usr/local/lib/python3.7/dist-packages (from requests<3,>=2.21.0->tensorboard~=2.5->tensorflow-gpu) (3.0.4)\n",
            "Requirement already satisfied: urllib3!=1.25.0,!=1.25.1,<1.26,>=1.21.1 in /usr/local/lib/python3.7/dist-packages (from requests<3,>=2.21.0->tensorboard~=2.5->tensorflow-gpu) (1.24.3)\n",
            "Requirement already satisfied: certifi>=2017.4.17 in /usr/local/lib/python3.7/dist-packages (from requests<3,>=2.21.0->tensorboard~=2.5->tensorflow-gpu) (2021.5.30)\n",
            "Requirement already satisfied: pyasn1>=0.1.3 in /usr/local/lib/python3.7/dist-packages (from rsa<5,>=3.1.4; python_version >= \"3.6\"->google-auth<2,>=1.6.3->tensorboard~=2.5->tensorflow-gpu) (0.4.8)\n",
            "Requirement already satisfied: oauthlib>=3.0.0 in /usr/local/lib/python3.7/dist-packages (from requests-oauthlib>=0.7.0->google-auth-oauthlib<0.5,>=0.4.1->tensorboard~=2.5->tensorflow-gpu) (3.1.1)\n",
            "Requirement already satisfied: zipp>=0.5 in /usr/local/lib/python3.7/dist-packages (from importlib-metadata; python_version < \"3.8\"->markdown>=2.6.8->tensorboard~=2.5->tensorflow-gpu) (3.4.1)\n",
            "Installing collected packages: tensorflow-gpu\n",
            "Successfully installed tensorflow-gpu-2.5.0\n"
          ],
          "name": "stdout"
        }
      ]
    },
    {
      "cell_type": "code",
      "metadata": {
        "id": "82Z9KQ8_Pth4"
      },
      "source": [
        "import pandas as pd\n",
        "import numpy as np"
      ],
      "execution_count": 2,
      "outputs": []
    },
    {
      "cell_type": "code",
      "metadata": {
        "colab": {
          "base_uri": "https://localhost:8080/"
        },
        "id": "xWL52CDnP0ov",
        "outputId": "0cef5cc4-65d7-464a-a249-f62e6609d65d"
      },
      "source": [
        "from google.colab import  drive\n",
        "drive.mount('/content/drive')"
      ],
      "execution_count": 3,
      "outputs": [
        {
          "output_type": "stream",
          "text": [
            "Mounted at /content/drive\n"
          ],
          "name": "stdout"
        }
      ]
    },
    {
      "cell_type": "code",
      "metadata": {
        "id": "mhtX6V0iQHu4",
        "colab": {
          "base_uri": "https://localhost:8080/",
          "height": 338
        },
        "outputId": "5b86c208-fec8-4304-9ea1-f3256febc25e"
      },
      "source": [
        "df=pd.read_csv('/content/drive/MyDrive/Improved Cyber Attack Detection using Machine Learning/Dataset/Hz-CTU13_1.csv')\n",
        "df.head()"
      ],
      "execution_count": 4,
      "outputs": [
        {
          "output_type": "execute_result",
          "data": {
            "text/html": [
              "<div>\n",
              "<style scoped>\n",
              "    .dataframe tbody tr th:only-of-type {\n",
              "        vertical-align: middle;\n",
              "    }\n",
              "\n",
              "    .dataframe tbody tr th {\n",
              "        vertical-align: top;\n",
              "    }\n",
              "\n",
              "    .dataframe thead th {\n",
              "        text-align: right;\n",
              "    }\n",
              "</style>\n",
              "<table border=\"1\" class=\"dataframe\">\n",
              "  <thead>\n",
              "    <tr style=\"text-align: right;\">\n",
              "      <th></th>\n",
              "      <th>src</th>\n",
              "      <th>src_port</th>\n",
              "      <th>dst</th>\n",
              "      <th>dst_port</th>\n",
              "      <th>original_dataset</th>\n",
              "      <th>original_label</th>\n",
              "      <th>event_generator</th>\n",
              "      <th>event_signature</th>\n",
              "      <th>event_priority</th>\n",
              "      <th>ndpi_risk</th>\n",
              "      <th>ndpi_detected_protocol</th>\n",
              "      <th>payload_bytes_first</th>\n",
              "      <th>packet_pay_size-3</th>\n",
              "      <th>C_packets_rst_avg</th>\n",
              "      <th>packet_pay_size-2</th>\n",
              "      <th>dst2src_packets_rate</th>\n",
              "      <th>C_packets_rst_min</th>\n",
              "      <th>C_packets_urg_avg</th>\n",
              "      <th>src2dst_packets_rate</th>\n",
              "      <th>C_packets_fin_avg</th>\n",
              "      <th>C_idletime_max</th>\n",
              "      <th>http_response_status_code</th>\n",
              "      <th>packet_header_size-4</th>\n",
              "      <th>dst2src_inter_time_std</th>\n",
              "      <th>packet_header_size-0</th>\n",
              "      <th>C_packets_rst_std</th>\n",
              "      <th>payload_bytes_max</th>\n",
              "      <th>src2dst_header_bytes_min</th>\n",
              "      <th>C_dst2src_packets_rate_max</th>\n",
              "      <th>packet_pay_size-8</th>\n",
              "      <th>dst2src_header_bytes_min</th>\n",
              "      <th>http_request_version</th>\n",
              "      <th>src2dst_header_bytes_max</th>\n",
              "      <th>dns_query_type</th>\n",
              "      <th>payload_bytes_avg</th>\n",
              "      <th>dst2src_header_bytes_std</th>\n",
              "      <th>C_dst2src_packets_rate_min</th>\n",
              "      <th>C_packets_syn_std</th>\n",
              "      <th>C_src2dst_packets_rate_max</th>\n",
              "      <th>packet_header_size-7</th>\n",
              "      <th>...</th>\n",
              "      <th>packets_urg</th>\n",
              "      <th>packet_direction-8</th>\n",
              "      <th>dst2src_pay_bytes_rate</th>\n",
              "      <th>src2dst_inter_time_avg</th>\n",
              "      <th>dns_rsp_type</th>\n",
              "      <th>flow_idle_time</th>\n",
              "      <th>packet_header_size-3</th>\n",
              "      <th>inter_time-0</th>\n",
              "      <th>C_dst2src_pay_bytes_min</th>\n",
              "      <th>dst2src_pay_bytes_std</th>\n",
              "      <th>C_src2dst_header_bytes_avg</th>\n",
              "      <th>C_dst2src_packets_avg</th>\n",
              "      <th>bytes</th>\n",
              "      <th>packets_without_payload</th>\n",
              "      <th>C_tcp_retransmissions_avg</th>\n",
              "      <th>inter_time-1</th>\n",
              "      <th>C_src2dst_pay_bytes_rate_max</th>\n",
              "      <th>inter_time-4</th>\n",
              "      <th>C_dst2src_pay_bytes_max</th>\n",
              "      <th>packet_pay_size-6</th>\n",
              "      <th>dst2src_pay_bytes</th>\n",
              "      <th>payload_bytes_min</th>\n",
              "      <th>tcp_retransmissions</th>\n",
              "      <th>C_packets_fin_min</th>\n",
              "      <th>C_dst2src_packets_rate_avg</th>\n",
              "      <th>dst2src_inter_time_avg</th>\n",
              "      <th>packet_header_size-5</th>\n",
              "      <th>packet_pay_size-1</th>\n",
              "      <th>packet_header_size-10</th>\n",
              "      <th>C_dst2src_pay_bytes_rate_std</th>\n",
              "      <th>src2dst_pay_bytes_std</th>\n",
              "      <th>C_idletime_min</th>\n",
              "      <th>C_src2dst_header_bytes_std</th>\n",
              "      <th>src2dst_pay_bytes_avg</th>\n",
              "      <th>packet_pay_size-9</th>\n",
              "      <th>packet_direction-2</th>\n",
              "      <th>C_src2dst_header_bytes_min</th>\n",
              "      <th>C_dst2src_packets_min</th>\n",
              "      <th>C_packets_urg_max</th>\n",
              "      <th>C_dst2src_pay_bytes_rate_min</th>\n",
              "    </tr>\n",
              "  </thead>\n",
              "  <tbody>\n",
              "    <tr>\n",
              "      <th>0</th>\n",
              "      <td>147.32.84.165</td>\n",
              "      <td>137</td>\n",
              "      <td>147.32.84.255</td>\n",
              "      <td>137</td>\n",
              "      <td>CTU13/1</td>\n",
              "      <td>NaN</td>\n",
              "      <td>NaN</td>\n",
              "      <td>NaN</td>\n",
              "      <td>NaN</td>\n",
              "      <td>Acceptable</td>\n",
              "      <td>10/NetBIOS</td>\n",
              "      <td>68</td>\n",
              "      <td>68</td>\n",
              "      <td>0</td>\n",
              "      <td>68</td>\n",
              "      <td>0</td>\n",
              "      <td>0</td>\n",
              "      <td>0</td>\n",
              "      <td>0</td>\n",
              "      <td>0</td>\n",
              "      <td>152788</td>\n",
              "      <td>-1</td>\n",
              "      <td>28</td>\n",
              "      <td>0</td>\n",
              "      <td>28</td>\n",
              "      <td>0</td>\n",
              "      <td>68</td>\n",
              "      <td>28</td>\n",
              "      <td>0</td>\n",
              "      <td>50</td>\n",
              "      <td>0</td>\n",
              "      <td>-1</td>\n",
              "      <td>28</td>\n",
              "      <td>-1</td>\n",
              "      <td>59</td>\n",
              "      <td>0</td>\n",
              "      <td>0</td>\n",
              "      <td>0</td>\n",
              "      <td>4</td>\n",
              "      <td>28</td>\n",
              "      <td>...</td>\n",
              "      <td>0</td>\n",
              "      <td>1</td>\n",
              "      <td>0</td>\n",
              "      <td>5217</td>\n",
              "      <td>-1</td>\n",
              "      <td>286661</td>\n",
              "      <td>28</td>\n",
              "      <td>0</td>\n",
              "      <td>0</td>\n",
              "      <td>0</td>\n",
              "      <td>324</td>\n",
              "      <td>0</td>\n",
              "      <td>5912</td>\n",
              "      <td>0</td>\n",
              "      <td>0</td>\n",
              "      <td>0</td>\n",
              "      <td>0</td>\n",
              "      <td>420</td>\n",
              "      <td>0</td>\n",
              "      <td>68</td>\n",
              "      <td>0</td>\n",
              "      <td>50</td>\n",
              "      <td>0</td>\n",
              "      <td>0</td>\n",
              "      <td>0</td>\n",
              "      <td>0</td>\n",
              "      <td>28</td>\n",
              "      <td>68</td>\n",
              "      <td>28</td>\n",
              "      <td>0</td>\n",
              "      <td>9</td>\n",
              "      <td>1763</td>\n",
              "      <td>258</td>\n",
              "      <td>59</td>\n",
              "      <td>50</td>\n",
              "      <td>1</td>\n",
              "      <td>168</td>\n",
              "      <td>0</td>\n",
              "      <td>0</td>\n",
              "      <td>0</td>\n",
              "    </tr>\n",
              "    <tr>\n",
              "      <th>1</th>\n",
              "      <td>147.32.84.165</td>\n",
              "      <td>1025</td>\n",
              "      <td>147.32.80.9</td>\n",
              "      <td>53</td>\n",
              "      <td>CTU13/1</td>\n",
              "      <td>From-Botnet-V42-UDP-DNS</td>\n",
              "      <td>NaN</td>\n",
              "      <td>NaN</td>\n",
              "      <td>NaN</td>\n",
              "      <td>Acceptable</td>\n",
              "      <td>5/DNS</td>\n",
              "      <td>22</td>\n",
              "      <td>45</td>\n",
              "      <td>0</td>\n",
              "      <td>97</td>\n",
              "      <td>0</td>\n",
              "      <td>0</td>\n",
              "      <td>0</td>\n",
              "      <td>0</td>\n",
              "      <td>0</td>\n",
              "      <td>116131</td>\n",
              "      <td>-1</td>\n",
              "      <td>28</td>\n",
              "      <td>29888</td>\n",
              "      <td>28</td>\n",
              "      <td>0</td>\n",
              "      <td>461</td>\n",
              "      <td>28</td>\n",
              "      <td>1000</td>\n",
              "      <td>102</td>\n",
              "      <td>28</td>\n",
              "      <td>-1</td>\n",
              "      <td>28</td>\n",
              "      <td>-1</td>\n",
              "      <td>65</td>\n",
              "      <td>0</td>\n",
              "      <td>0</td>\n",
              "      <td>0</td>\n",
              "      <td>2000</td>\n",
              "      <td>28</td>\n",
              "      <td>...</td>\n",
              "      <td>0</td>\n",
              "      <td>0</td>\n",
              "      <td>0</td>\n",
              "      <td>7762</td>\n",
              "      <td>-1</td>\n",
              "      <td>333718</td>\n",
              "      <td>28</td>\n",
              "      <td>0</td>\n",
              "      <td>69</td>\n",
              "      <td>93</td>\n",
              "      <td>68</td>\n",
              "      <td>1</td>\n",
              "      <td>6798</td>\n",
              "      <td>0</td>\n",
              "      <td>0</td>\n",
              "      <td>0</td>\n",
              "      <td>78</td>\n",
              "      <td>0</td>\n",
              "      <td>461</td>\n",
              "      <td>29</td>\n",
              "      <td>2682</td>\n",
              "      <td>22</td>\n",
              "      <td>0</td>\n",
              "      <td>0</td>\n",
              "      <td>228</td>\n",
              "      <td>17993</td>\n",
              "      <td>28</td>\n",
              "      <td>22</td>\n",
              "      <td>28</td>\n",
              "      <td>49</td>\n",
              "      <td>5</td>\n",
              "      <td>1001</td>\n",
              "      <td>23</td>\n",
              "      <td>33</td>\n",
              "      <td>35</td>\n",
              "      <td>0</td>\n",
              "      <td>56</td>\n",
              "      <td>0</td>\n",
              "      <td>0</td>\n",
              "      <td>0</td>\n",
              "    </tr>\n",
              "    <tr>\n",
              "      <th>2</th>\n",
              "      <td>147.32.84.165</td>\n",
              "      <td>1027</td>\n",
              "      <td>74.125.232.195</td>\n",
              "      <td>80</td>\n",
              "      <td>CTU13/1</td>\n",
              "      <td>From-Botnet-V42-TCP-HTTP-Google-Net-Established-6</td>\n",
              "      <td>NaN</td>\n",
              "      <td>NaN</td>\n",
              "      <td>NaN</td>\n",
              "      <td>Safe</td>\n",
              "      <td>7.126/HTTP.Google</td>\n",
              "      <td>0</td>\n",
              "      <td>0</td>\n",
              "      <td>0</td>\n",
              "      <td>0</td>\n",
              "      <td>66</td>\n",
              "      <td>0</td>\n",
              "      <td>0</td>\n",
              "      <td>177</td>\n",
              "      <td>0</td>\n",
              "      <td>0</td>\n",
              "      <td>-1</td>\n",
              "      <td>40</td>\n",
              "      <td>7</td>\n",
              "      <td>48</td>\n",
              "      <td>0</td>\n",
              "      <td>393</td>\n",
              "      <td>40</td>\n",
              "      <td>30</td>\n",
              "      <td>77</td>\n",
              "      <td>40</td>\n",
              "      <td>-1</td>\n",
              "      <td>48</td>\n",
              "      <td>-1</td>\n",
              "      <td>78</td>\n",
              "      <td>3</td>\n",
              "      <td>30</td>\n",
              "      <td>0</td>\n",
              "      <td>60</td>\n",
              "      <td>40</td>\n",
              "      <td>...</td>\n",
              "      <td>0</td>\n",
              "      <td>0</td>\n",
              "      <td>1</td>\n",
              "      <td>5</td>\n",
              "      <td>-1</td>\n",
              "      <td>12</td>\n",
              "      <td>40</td>\n",
              "      <td>0</td>\n",
              "      <td>77</td>\n",
              "      <td>0</td>\n",
              "      <td>80</td>\n",
              "      <td>1</td>\n",
              "      <td>1481</td>\n",
              "      <td>8</td>\n",
              "      <td>0</td>\n",
              "      <td>0</td>\n",
              "      <td>23</td>\n",
              "      <td>0</td>\n",
              "      <td>77</td>\n",
              "      <td>393</td>\n",
              "      <td>77</td>\n",
              "      <td>0</td>\n",
              "      <td>0</td>\n",
              "      <td>0</td>\n",
              "      <td>30</td>\n",
              "      <td>14</td>\n",
              "      <td>40</td>\n",
              "      <td>0</td>\n",
              "      <td>40</td>\n",
              "      <td>0</td>\n",
              "      <td>0</td>\n",
              "      <td>0</td>\n",
              "      <td>0</td>\n",
              "      <td>393</td>\n",
              "      <td>0</td>\n",
              "      <td>0</td>\n",
              "      <td>80</td>\n",
              "      <td>1</td>\n",
              "      <td>0</td>\n",
              "      <td>2</td>\n",
              "    </tr>\n",
              "    <tr>\n",
              "      <th>3</th>\n",
              "      <td>147.32.84.165</td>\n",
              "      <td>138</td>\n",
              "      <td>147.32.84.255</td>\n",
              "      <td>138</td>\n",
              "      <td>CTU13/1</td>\n",
              "      <td>NaN</td>\n",
              "      <td>NaN</td>\n",
              "      <td>NaN</td>\n",
              "      <td>NaN</td>\n",
              "      <td>Acceptable</td>\n",
              "      <td>10/NetBIOS</td>\n",
              "      <td>201</td>\n",
              "      <td>178</td>\n",
              "      <td>0</td>\n",
              "      <td>178</td>\n",
              "      <td>0</td>\n",
              "      <td>0</td>\n",
              "      <td>0</td>\n",
              "      <td>0</td>\n",
              "      <td>0</td>\n",
              "      <td>263902</td>\n",
              "      <td>-1</td>\n",
              "      <td>28</td>\n",
              "      <td>0</td>\n",
              "      <td>28</td>\n",
              "      <td>0</td>\n",
              "      <td>201</td>\n",
              "      <td>28</td>\n",
              "      <td>0</td>\n",
              "      <td>201</td>\n",
              "      <td>0</td>\n",
              "      <td>-1</td>\n",
              "      <td>28</td>\n",
              "      <td>-1</td>\n",
              "      <td>194</td>\n",
              "      <td>0</td>\n",
              "      <td>0</td>\n",
              "      <td>0</td>\n",
              "      <td>0</td>\n",
              "      <td>28</td>\n",
              "      <td>...</td>\n",
              "      <td>0</td>\n",
              "      <td>1</td>\n",
              "      <td>0</td>\n",
              "      <td>60680</td>\n",
              "      <td>-1</td>\n",
              "      <td>1334972</td>\n",
              "      <td>28</td>\n",
              "      <td>0</td>\n",
              "      <td>0</td>\n",
              "      <td>0</td>\n",
              "      <td>61</td>\n",
              "      <td>0</td>\n",
              "      <td>5202</td>\n",
              "      <td>0</td>\n",
              "      <td>0</td>\n",
              "      <td>0</td>\n",
              "      <td>0</td>\n",
              "      <td>0</td>\n",
              "      <td>0</td>\n",
              "      <td>174</td>\n",
              "      <td>0</td>\n",
              "      <td>174</td>\n",
              "      <td>0</td>\n",
              "      <td>0</td>\n",
              "      <td>0</td>\n",
              "      <td>0</td>\n",
              "      <td>28</td>\n",
              "      <td>201</td>\n",
              "      <td>28</td>\n",
              "      <td>0</td>\n",
              "      <td>9</td>\n",
              "      <td>4013</td>\n",
              "      <td>16</td>\n",
              "      <td>194</td>\n",
              "      <td>201</td>\n",
              "      <td>1</td>\n",
              "      <td>56</td>\n",
              "      <td>0</td>\n",
              "      <td>0</td>\n",
              "      <td>0</td>\n",
              "    </tr>\n",
              "    <tr>\n",
              "      <th>4</th>\n",
              "      <td>147.32.84.165</td>\n",
              "      <td>1035</td>\n",
              "      <td>239.255.255.250</td>\n",
              "      <td>1900</td>\n",
              "      <td>CTU13/1</td>\n",
              "      <td>NaN</td>\n",
              "      <td>NaN</td>\n",
              "      <td>NaN</td>\n",
              "      <td>NaN</td>\n",
              "      <td>Acceptable</td>\n",
              "      <td>12/SSDP</td>\n",
              "      <td>133</td>\n",
              "      <td>133</td>\n",
              "      <td>0</td>\n",
              "      <td>133</td>\n",
              "      <td>0</td>\n",
              "      <td>0</td>\n",
              "      <td>0</td>\n",
              "      <td>0</td>\n",
              "      <td>0</td>\n",
              "      <td>3005</td>\n",
              "      <td>-1</td>\n",
              "      <td>28</td>\n",
              "      <td>0</td>\n",
              "      <td>28</td>\n",
              "      <td>0</td>\n",
              "      <td>133</td>\n",
              "      <td>28</td>\n",
              "      <td>0</td>\n",
              "      <td>-1</td>\n",
              "      <td>0</td>\n",
              "      <td>-1</td>\n",
              "      <td>28</td>\n",
              "      <td>-1</td>\n",
              "      <td>133</td>\n",
              "      <td>0</td>\n",
              "      <td>0</td>\n",
              "      <td>0</td>\n",
              "      <td>0</td>\n",
              "      <td>-1</td>\n",
              "      <td>...</td>\n",
              "      <td>0</td>\n",
              "      <td>-1</td>\n",
              "      <td>0</td>\n",
              "      <td>1001</td>\n",
              "      <td>-1</td>\n",
              "      <td>6007</td>\n",
              "      <td>28</td>\n",
              "      <td>0</td>\n",
              "      <td>0</td>\n",
              "      <td>0</td>\n",
              "      <td>56</td>\n",
              "      <td>0</td>\n",
              "      <td>1050</td>\n",
              "      <td>0</td>\n",
              "      <td>0</td>\n",
              "      <td>0</td>\n",
              "      <td>0</td>\n",
              "      <td>3005</td>\n",
              "      <td>0</td>\n",
              "      <td>-1</td>\n",
              "      <td>0</td>\n",
              "      <td>133</td>\n",
              "      <td>0</td>\n",
              "      <td>0</td>\n",
              "      <td>0</td>\n",
              "      <td>0</td>\n",
              "      <td>28</td>\n",
              "      <td>133</td>\n",
              "      <td>-1</td>\n",
              "      <td>0</td>\n",
              "      <td>0</td>\n",
              "      <td>3002</td>\n",
              "      <td>0</td>\n",
              "      <td>133</td>\n",
              "      <td>-1</td>\n",
              "      <td>1</td>\n",
              "      <td>56</td>\n",
              "      <td>0</td>\n",
              "      <td>0</td>\n",
              "      <td>0</td>\n",
              "    </tr>\n",
              "  </tbody>\n",
              "</table>\n",
              "<p>5 rows × 204 columns</p>\n",
              "</div>"
            ],
            "text/plain": [
              "             src  src_port  ... C_packets_urg_max  C_dst2src_pay_bytes_rate_min\n",
              "0  147.32.84.165       137  ...                 0                             0\n",
              "1  147.32.84.165      1025  ...                 0                             0\n",
              "2  147.32.84.165      1027  ...                 0                             2\n",
              "3  147.32.84.165       138  ...                 0                             0\n",
              "4  147.32.84.165      1035  ...                 0                             0\n",
              "\n",
              "[5 rows x 204 columns]"
            ]
          },
          "metadata": {
            "tags": []
          },
          "execution_count": 4
        }
      ]
    },
    {
      "cell_type": "code",
      "metadata": {
        "colab": {
          "base_uri": "https://localhost:8080/"
        },
        "id": "BvYw1hwz5I6X",
        "outputId": "4adc3e41-c0c6-4b31-93f1-07cd952f53ef"
      },
      "source": [
        "# checking number of rows and columns\n",
        "df.shape"
      ],
      "execution_count": 5,
      "outputs": [
        {
          "output_type": "execute_result",
          "data": {
            "text/plain": [
              "(12955, 204)"
            ]
          },
          "metadata": {
            "tags": []
          },
          "execution_count": 5
        }
      ]
    },
    {
      "cell_type": "code",
      "metadata": {
        "colab": {
          "base_uri": "https://localhost:8080/",
          "height": 363
        },
        "id": "FaZqhp4L5VN3",
        "outputId": "d76053c7-855c-4423-9220-1954ccbb843d"
      },
      "source": [
        "df.describe()"
      ],
      "execution_count": 6,
      "outputs": [
        {
          "output_type": "execute_result",
          "data": {
            "text/html": [
              "<div>\n",
              "<style scoped>\n",
              "    .dataframe tbody tr th:only-of-type {\n",
              "        vertical-align: middle;\n",
              "    }\n",
              "\n",
              "    .dataframe tbody tr th {\n",
              "        vertical-align: top;\n",
              "    }\n",
              "\n",
              "    .dataframe thead th {\n",
              "        text-align: right;\n",
              "    }\n",
              "</style>\n",
              "<table border=\"1\" class=\"dataframe\">\n",
              "  <thead>\n",
              "    <tr style=\"text-align: right;\">\n",
              "      <th></th>\n",
              "      <th>src_port</th>\n",
              "      <th>dst_port</th>\n",
              "      <th>event_generator</th>\n",
              "      <th>event_signature</th>\n",
              "      <th>event_priority</th>\n",
              "      <th>payload_bytes_first</th>\n",
              "      <th>packet_pay_size-3</th>\n",
              "      <th>C_packets_rst_avg</th>\n",
              "      <th>packet_pay_size-2</th>\n",
              "      <th>dst2src_packets_rate</th>\n",
              "      <th>C_packets_rst_min</th>\n",
              "      <th>C_packets_urg_avg</th>\n",
              "      <th>src2dst_packets_rate</th>\n",
              "      <th>C_packets_fin_avg</th>\n",
              "      <th>C_idletime_max</th>\n",
              "      <th>http_response_status_code</th>\n",
              "      <th>packet_header_size-4</th>\n",
              "      <th>dst2src_inter_time_std</th>\n",
              "      <th>packet_header_size-0</th>\n",
              "      <th>C_packets_rst_std</th>\n",
              "      <th>payload_bytes_max</th>\n",
              "      <th>src2dst_header_bytes_min</th>\n",
              "      <th>C_dst2src_packets_rate_max</th>\n",
              "      <th>packet_pay_size-8</th>\n",
              "      <th>dst2src_header_bytes_min</th>\n",
              "      <th>http_request_version</th>\n",
              "      <th>src2dst_header_bytes_max</th>\n",
              "      <th>dns_query_type</th>\n",
              "      <th>payload_bytes_avg</th>\n",
              "      <th>dst2src_header_bytes_std</th>\n",
              "      <th>C_dst2src_packets_rate_min</th>\n",
              "      <th>C_packets_syn_std</th>\n",
              "      <th>C_src2dst_packets_rate_max</th>\n",
              "      <th>packet_header_size-7</th>\n",
              "      <th>C_packets_syn_max</th>\n",
              "      <th>C_tcp_retransmissions_max</th>\n",
              "      <th>packets_fin</th>\n",
              "      <th>src2dst_pay_bytes</th>\n",
              "      <th>packet_header_size-6</th>\n",
              "      <th>dst2src_packets</th>\n",
              "      <th>...</th>\n",
              "      <th>packets_urg</th>\n",
              "      <th>packet_direction-8</th>\n",
              "      <th>dst2src_pay_bytes_rate</th>\n",
              "      <th>src2dst_inter_time_avg</th>\n",
              "      <th>dns_rsp_type</th>\n",
              "      <th>flow_idle_time</th>\n",
              "      <th>packet_header_size-3</th>\n",
              "      <th>inter_time-0</th>\n",
              "      <th>C_dst2src_pay_bytes_min</th>\n",
              "      <th>dst2src_pay_bytes_std</th>\n",
              "      <th>C_src2dst_header_bytes_avg</th>\n",
              "      <th>C_dst2src_packets_avg</th>\n",
              "      <th>bytes</th>\n",
              "      <th>packets_without_payload</th>\n",
              "      <th>C_tcp_retransmissions_avg</th>\n",
              "      <th>inter_time-1</th>\n",
              "      <th>C_src2dst_pay_bytes_rate_max</th>\n",
              "      <th>inter_time-4</th>\n",
              "      <th>C_dst2src_pay_bytes_max</th>\n",
              "      <th>packet_pay_size-6</th>\n",
              "      <th>dst2src_pay_bytes</th>\n",
              "      <th>payload_bytes_min</th>\n",
              "      <th>tcp_retransmissions</th>\n",
              "      <th>C_packets_fin_min</th>\n",
              "      <th>C_dst2src_packets_rate_avg</th>\n",
              "      <th>dst2src_inter_time_avg</th>\n",
              "      <th>packet_header_size-5</th>\n",
              "      <th>packet_pay_size-1</th>\n",
              "      <th>packet_header_size-10</th>\n",
              "      <th>C_dst2src_pay_bytes_rate_std</th>\n",
              "      <th>src2dst_pay_bytes_std</th>\n",
              "      <th>C_idletime_min</th>\n",
              "      <th>C_src2dst_header_bytes_std</th>\n",
              "      <th>src2dst_pay_bytes_avg</th>\n",
              "      <th>packet_pay_size-9</th>\n",
              "      <th>packet_direction-2</th>\n",
              "      <th>C_src2dst_header_bytes_min</th>\n",
              "      <th>C_dst2src_packets_min</th>\n",
              "      <th>C_packets_urg_max</th>\n",
              "      <th>C_dst2src_pay_bytes_rate_min</th>\n",
              "    </tr>\n",
              "  </thead>\n",
              "  <tbody>\n",
              "    <tr>\n",
              "      <th>count</th>\n",
              "      <td>12955.000000</td>\n",
              "      <td>12955.000000</td>\n",
              "      <td>449.000000</td>\n",
              "      <td>449.000000</td>\n",
              "      <td>449.000000</td>\n",
              "      <td>12955.000000</td>\n",
              "      <td>12955.000000</td>\n",
              "      <td>12955.000000</td>\n",
              "      <td>12955.000000</td>\n",
              "      <td>12955.000000</td>\n",
              "      <td>12955.000000</td>\n",
              "      <td>12955.0</td>\n",
              "      <td>12955.000000</td>\n",
              "      <td>12955.000000</td>\n",
              "      <td>12955.000000</td>\n",
              "      <td>12955.000000</td>\n",
              "      <td>12955.000000</td>\n",
              "      <td>12955.000000</td>\n",
              "      <td>12955.000000</td>\n",
              "      <td>12955.0</td>\n",
              "      <td>12955.000000</td>\n",
              "      <td>12955.000000</td>\n",
              "      <td>12955.000000</td>\n",
              "      <td>12955.000000</td>\n",
              "      <td>12955.00000</td>\n",
              "      <td>12955.000000</td>\n",
              "      <td>12955.000000</td>\n",
              "      <td>12955.000000</td>\n",
              "      <td>12955.000000</td>\n",
              "      <td>12955.000000</td>\n",
              "      <td>12955.000000</td>\n",
              "      <td>12955.0</td>\n",
              "      <td>12955.000000</td>\n",
              "      <td>12955.000000</td>\n",
              "      <td>12955.0</td>\n",
              "      <td>12955.000000</td>\n",
              "      <td>12955.000000</td>\n",
              "      <td>12955.000000</td>\n",
              "      <td>12955.000000</td>\n",
              "      <td>12955.000000</td>\n",
              "      <td>...</td>\n",
              "      <td>12955.0</td>\n",
              "      <td>12955.000000</td>\n",
              "      <td>12955.000000</td>\n",
              "      <td>12955.000000</td>\n",
              "      <td>12955.000000</td>\n",
              "      <td>1.295500e+04</td>\n",
              "      <td>12955.000000</td>\n",
              "      <td>12955.0</td>\n",
              "      <td>12955.000000</td>\n",
              "      <td>12955.000000</td>\n",
              "      <td>12955.000000</td>\n",
              "      <td>12955.000000</td>\n",
              "      <td>1.295500e+04</td>\n",
              "      <td>12955.000000</td>\n",
              "      <td>12955.000000</td>\n",
              "      <td>12955.000000</td>\n",
              "      <td>12955.000000</td>\n",
              "      <td>12955.000000</td>\n",
              "      <td>12955.000000</td>\n",
              "      <td>12955.000000</td>\n",
              "      <td>12955.000000</td>\n",
              "      <td>12955.000000</td>\n",
              "      <td>12955.000000</td>\n",
              "      <td>12955.000000</td>\n",
              "      <td>12955.000000</td>\n",
              "      <td>12955.000000</td>\n",
              "      <td>12955.000000</td>\n",
              "      <td>12955.000000</td>\n",
              "      <td>12955.000000</td>\n",
              "      <td>12955.000000</td>\n",
              "      <td>12955.000000</td>\n",
              "      <td>12955.000000</td>\n",
              "      <td>12955.000000</td>\n",
              "      <td>12955.000000</td>\n",
              "      <td>12955.000000</td>\n",
              "      <td>12955.000000</td>\n",
              "      <td>12955.000000</td>\n",
              "      <td>12955.000000</td>\n",
              "      <td>12955.0</td>\n",
              "      <td>12955.000000</td>\n",
              "    </tr>\n",
              "    <tr>\n",
              "      <th>mean</th>\n",
              "      <td>2723.592281</td>\n",
              "      <td>1401.525743</td>\n",
              "      <td>29.229399</td>\n",
              "      <td>13037.893096</td>\n",
              "      <td>1.378619</td>\n",
              "      <td>10.358858</td>\n",
              "      <td>4.974759</td>\n",
              "      <td>0.000309</td>\n",
              "      <td>40.762022</td>\n",
              "      <td>8.771208</td>\n",
              "      <td>0.000309</td>\n",
              "      <td>0.0</td>\n",
              "      <td>13.569896</td>\n",
              "      <td>0.004245</td>\n",
              "      <td>19760.136472</td>\n",
              "      <td>10.120340</td>\n",
              "      <td>33.775994</td>\n",
              "      <td>7331.430953</td>\n",
              "      <td>42.483906</td>\n",
              "      <td>0.0</td>\n",
              "      <td>120.961405</td>\n",
              "      <td>41.748977</td>\n",
              "      <td>10.446314</td>\n",
              "      <td>41.108915</td>\n",
              "      <td>12.49587</td>\n",
              "      <td>-0.839830</td>\n",
              "      <td>42.495176</td>\n",
              "      <td>-0.977769</td>\n",
              "      <td>33.025473</td>\n",
              "      <td>0.224932</td>\n",
              "      <td>5.399537</td>\n",
              "      <td>0.0</td>\n",
              "      <td>25.696951</td>\n",
              "      <td>7.927364</td>\n",
              "      <td>0.0</td>\n",
              "      <td>0.246700</td>\n",
              "      <td>0.186646</td>\n",
              "      <td>666.103126</td>\n",
              "      <td>8.057816</td>\n",
              "      <td>5.652103</td>\n",
              "      <td>...</td>\n",
              "      <td>0.0</td>\n",
              "      <td>-0.700579</td>\n",
              "      <td>0.375994</td>\n",
              "      <td>4576.980239</td>\n",
              "      <td>-0.995909</td>\n",
              "      <td>6.203025e+04</td>\n",
              "      <td>35.102509</td>\n",
              "      <td>0.0</td>\n",
              "      <td>242.683520</td>\n",
              "      <td>12.289232</td>\n",
              "      <td>38.216133</td>\n",
              "      <td>0.623157</td>\n",
              "      <td>2.487098e+03</td>\n",
              "      <td>11.035739</td>\n",
              "      <td>0.178387</td>\n",
              "      <td>111.348591</td>\n",
              "      <td>2.861058</td>\n",
              "      <td>3567.216442</td>\n",
              "      <td>428.093555</td>\n",
              "      <td>38.072019</td>\n",
              "      <td>721.380934</td>\n",
              "      <td>10.109456</td>\n",
              "      <td>0.504593</td>\n",
              "      <td>0.004168</td>\n",
              "      <td>6.849325</td>\n",
              "      <td>6368.049711</td>\n",
              "      <td>33.599768</td>\n",
              "      <td>9.558549</td>\n",
              "      <td>6.492706</td>\n",
              "      <td>0.673099</td>\n",
              "      <td>4.601853</td>\n",
              "      <td>8601.567734</td>\n",
              "      <td>9.461443</td>\n",
              "      <td>41.565342</td>\n",
              "      <td>12.812273</td>\n",
              "      <td>0.604631</td>\n",
              "      <td>29.082516</td>\n",
              "      <td>0.507835</td>\n",
              "      <td>0.0</td>\n",
              "      <td>1.614898</td>\n",
              "    </tr>\n",
              "    <tr>\n",
              "      <th>std</th>\n",
              "      <td>1699.991656</td>\n",
              "      <td>6723.296856</td>\n",
              "      <td>51.520180</td>\n",
              "      <td>7257.277388</td>\n",
              "      <td>0.737447</td>\n",
              "      <td>33.848830</td>\n",
              "      <td>22.829690</td>\n",
              "      <td>0.027782</td>\n",
              "      <td>82.000907</td>\n",
              "      <td>107.382152</td>\n",
              "      <td>0.027782</td>\n",
              "      <td>0.0</td>\n",
              "      <td>175.323635</td>\n",
              "      <td>0.079933</td>\n",
              "      <td>85607.248956</td>\n",
              "      <td>52.558014</td>\n",
              "      <td>20.094539</td>\n",
              "      <td>32474.307484</td>\n",
              "      <td>9.775105</td>\n",
              "      <td>0.0</td>\n",
              "      <td>380.060874</td>\n",
              "      <td>9.621129</td>\n",
              "      <td>90.572463</td>\n",
              "      <td>173.583499</td>\n",
              "      <td>15.90348</td>\n",
              "      <td>0.534487</td>\n",
              "      <td>9.808056</td>\n",
              "      <td>0.518427</td>\n",
              "      <td>67.874086</td>\n",
              "      <td>0.774903</td>\n",
              "      <td>45.874666</td>\n",
              "      <td>0.0</td>\n",
              "      <td>205.437932</td>\n",
              "      <td>16.711727</td>\n",
              "      <td>0.0</td>\n",
              "      <td>2.494823</td>\n",
              "      <td>0.762963</td>\n",
              "      <td>12013.612500</td>\n",
              "      <td>16.867766</td>\n",
              "      <td>202.368983</td>\n",
              "      <td>...</td>\n",
              "      <td>0.0</td>\n",
              "      <td>0.592367</td>\n",
              "      <td>3.132471</td>\n",
              "      <td>16277.665347</td>\n",
              "      <td>0.063833</td>\n",
              "      <td>3.671735e+05</td>\n",
              "      <td>19.387506</td>\n",
              "      <td>0.0</td>\n",
              "      <td>2737.301619</td>\n",
              "      <td>83.420290</td>\n",
              "      <td>186.995313</td>\n",
              "      <td>2.504130</td>\n",
              "      <td>3.988335e+04</td>\n",
              "      <td>391.495908</td>\n",
              "      <td>1.786565</td>\n",
              "      <td>1502.417657</td>\n",
              "      <td>31.206358</td>\n",
              "      <td>8299.047464</td>\n",
              "      <td>3995.903110</td>\n",
              "      <td>125.259387</td>\n",
              "      <td>8877.259170</td>\n",
              "      <td>33.639920</td>\n",
              "      <td>11.156516</td>\n",
              "      <td>0.079453</td>\n",
              "      <td>50.058567</td>\n",
              "      <td>30413.258687</td>\n",
              "      <td>20.061569</td>\n",
              "      <td>19.850604</td>\n",
              "      <td>15.545751</td>\n",
              "      <td>16.738622</td>\n",
              "      <td>43.040290</td>\n",
              "      <td>50217.582917</td>\n",
              "      <td>131.648777</td>\n",
              "      <td>123.755723</td>\n",
              "      <td>90.757607</td>\n",
              "      <td>0.526210</td>\n",
              "      <td>132.287611</td>\n",
              "      <td>2.249868</td>\n",
              "      <td>0.0</td>\n",
              "      <td>21.697642</td>\n",
              "    </tr>\n",
              "    <tr>\n",
              "      <th>min</th>\n",
              "      <td>0.000000</td>\n",
              "      <td>0.000000</td>\n",
              "      <td>1.000000</td>\n",
              "      <td>1.000000</td>\n",
              "      <td>1.000000</td>\n",
              "      <td>0.000000</td>\n",
              "      <td>-1.000000</td>\n",
              "      <td>0.000000</td>\n",
              "      <td>-1.000000</td>\n",
              "      <td>0.000000</td>\n",
              "      <td>0.000000</td>\n",
              "      <td>0.0</td>\n",
              "      <td>0.000000</td>\n",
              "      <td>0.000000</td>\n",
              "      <td>0.000000</td>\n",
              "      <td>-1.000000</td>\n",
              "      <td>-1.000000</td>\n",
              "      <td>0.000000</td>\n",
              "      <td>20.000000</td>\n",
              "      <td>0.0</td>\n",
              "      <td>0.000000</td>\n",
              "      <td>20.000000</td>\n",
              "      <td>0.000000</td>\n",
              "      <td>-1.000000</td>\n",
              "      <td>0.00000</td>\n",
              "      <td>-1.000000</td>\n",
              "      <td>20.000000</td>\n",
              "      <td>-1.000000</td>\n",
              "      <td>0.000000</td>\n",
              "      <td>0.000000</td>\n",
              "      <td>0.000000</td>\n",
              "      <td>0.0</td>\n",
              "      <td>0.000000</td>\n",
              "      <td>-1.000000</td>\n",
              "      <td>0.0</td>\n",
              "      <td>0.000000</td>\n",
              "      <td>0.000000</td>\n",
              "      <td>0.000000</td>\n",
              "      <td>-1.000000</td>\n",
              "      <td>0.000000</td>\n",
              "      <td>...</td>\n",
              "      <td>0.0</td>\n",
              "      <td>-1.000000</td>\n",
              "      <td>0.000000</td>\n",
              "      <td>0.000000</td>\n",
              "      <td>-1.000000</td>\n",
              "      <td>0.000000e+00</td>\n",
              "      <td>-1.000000</td>\n",
              "      <td>0.0</td>\n",
              "      <td>0.000000</td>\n",
              "      <td>0.000000</td>\n",
              "      <td>0.000000</td>\n",
              "      <td>0.000000</td>\n",
              "      <td>3.400000e+01</td>\n",
              "      <td>0.000000</td>\n",
              "      <td>0.000000</td>\n",
              "      <td>-1.000000</td>\n",
              "      <td>0.000000</td>\n",
              "      <td>-1.000000</td>\n",
              "      <td>0.000000</td>\n",
              "      <td>-1.000000</td>\n",
              "      <td>0.000000</td>\n",
              "      <td>0.000000</td>\n",
              "      <td>0.000000</td>\n",
              "      <td>0.000000</td>\n",
              "      <td>0.000000</td>\n",
              "      <td>0.000000</td>\n",
              "      <td>-1.000000</td>\n",
              "      <td>-1.000000</td>\n",
              "      <td>-1.000000</td>\n",
              "      <td>0.000000</td>\n",
              "      <td>0.000000</td>\n",
              "      <td>0.000000</td>\n",
              "      <td>0.000000</td>\n",
              "      <td>0.000000</td>\n",
              "      <td>-1.000000</td>\n",
              "      <td>-1.000000</td>\n",
              "      <td>0.000000</td>\n",
              "      <td>0.000000</td>\n",
              "      <td>0.0</td>\n",
              "      <td>0.000000</td>\n",
              "    </tr>\n",
              "    <tr>\n",
              "      <th>25%</th>\n",
              "      <td>2077.000000</td>\n",
              "      <td>25.000000</td>\n",
              "      <td>1.000000</td>\n",
              "      <td>16826.000000</td>\n",
              "      <td>1.000000</td>\n",
              "      <td>0.000000</td>\n",
              "      <td>0.000000</td>\n",
              "      <td>0.000000</td>\n",
              "      <td>0.000000</td>\n",
              "      <td>0.000000</td>\n",
              "      <td>0.000000</td>\n",
              "      <td>0.0</td>\n",
              "      <td>0.000000</td>\n",
              "      <td>0.000000</td>\n",
              "      <td>0.000000</td>\n",
              "      <td>-1.000000</td>\n",
              "      <td>28.000000</td>\n",
              "      <td>0.000000</td>\n",
              "      <td>28.000000</td>\n",
              "      <td>0.0</td>\n",
              "      <td>0.000000</td>\n",
              "      <td>28.000000</td>\n",
              "      <td>0.000000</td>\n",
              "      <td>-1.000000</td>\n",
              "      <td>0.00000</td>\n",
              "      <td>-1.000000</td>\n",
              "      <td>28.000000</td>\n",
              "      <td>-1.000000</td>\n",
              "      <td>0.000000</td>\n",
              "      <td>0.000000</td>\n",
              "      <td>0.000000</td>\n",
              "      <td>0.0</td>\n",
              "      <td>0.000000</td>\n",
              "      <td>-1.000000</td>\n",
              "      <td>0.0</td>\n",
              "      <td>0.000000</td>\n",
              "      <td>0.000000</td>\n",
              "      <td>0.000000</td>\n",
              "      <td>-1.000000</td>\n",
              "      <td>0.000000</td>\n",
              "      <td>...</td>\n",
              "      <td>0.0</td>\n",
              "      <td>-1.000000</td>\n",
              "      <td>0.000000</td>\n",
              "      <td>208.000000</td>\n",
              "      <td>-1.000000</td>\n",
              "      <td>4.565000e+02</td>\n",
              "      <td>28.000000</td>\n",
              "      <td>0.0</td>\n",
              "      <td>0.000000</td>\n",
              "      <td>0.000000</td>\n",
              "      <td>0.000000</td>\n",
              "      <td>0.000000</td>\n",
              "      <td>3.720000e+02</td>\n",
              "      <td>0.000000</td>\n",
              "      <td>0.000000</td>\n",
              "      <td>0.000000</td>\n",
              "      <td>0.000000</td>\n",
              "      <td>0.000000</td>\n",
              "      <td>0.000000</td>\n",
              "      <td>-1.000000</td>\n",
              "      <td>0.000000</td>\n",
              "      <td>0.000000</td>\n",
              "      <td>0.000000</td>\n",
              "      <td>0.000000</td>\n",
              "      <td>0.000000</td>\n",
              "      <td>0.000000</td>\n",
              "      <td>28.000000</td>\n",
              "      <td>0.000000</td>\n",
              "      <td>-1.000000</td>\n",
              "      <td>0.000000</td>\n",
              "      <td>0.000000</td>\n",
              "      <td>0.000000</td>\n",
              "      <td>0.000000</td>\n",
              "      <td>0.000000</td>\n",
              "      <td>-1.000000</td>\n",
              "      <td>0.000000</td>\n",
              "      <td>0.000000</td>\n",
              "      <td>0.000000</td>\n",
              "      <td>0.0</td>\n",
              "      <td>0.000000</td>\n",
              "    </tr>\n",
              "    <tr>\n",
              "      <th>50%</th>\n",
              "      <td>2079.000000</td>\n",
              "      <td>53.000000</td>\n",
              "      <td>1.000000</td>\n",
              "      <td>16826.000000</td>\n",
              "      <td>1.000000</td>\n",
              "      <td>0.000000</td>\n",
              "      <td>0.000000</td>\n",
              "      <td>0.000000</td>\n",
              "      <td>0.000000</td>\n",
              "      <td>0.000000</td>\n",
              "      <td>0.000000</td>\n",
              "      <td>0.0</td>\n",
              "      <td>0.000000</td>\n",
              "      <td>0.000000</td>\n",
              "      <td>0.000000</td>\n",
              "      <td>-1.000000</td>\n",
              "      <td>48.000000</td>\n",
              "      <td>0.000000</td>\n",
              "      <td>48.000000</td>\n",
              "      <td>0.0</td>\n",
              "      <td>0.000000</td>\n",
              "      <td>48.000000</td>\n",
              "      <td>0.000000</td>\n",
              "      <td>-1.000000</td>\n",
              "      <td>0.00000</td>\n",
              "      <td>-1.000000</td>\n",
              "      <td>48.000000</td>\n",
              "      <td>-1.000000</td>\n",
              "      <td>0.000000</td>\n",
              "      <td>0.000000</td>\n",
              "      <td>0.000000</td>\n",
              "      <td>0.0</td>\n",
              "      <td>0.000000</td>\n",
              "      <td>-1.000000</td>\n",
              "      <td>0.0</td>\n",
              "      <td>0.000000</td>\n",
              "      <td>0.000000</td>\n",
              "      <td>0.000000</td>\n",
              "      <td>-1.000000</td>\n",
              "      <td>0.000000</td>\n",
              "      <td>...</td>\n",
              "      <td>0.0</td>\n",
              "      <td>-1.000000</td>\n",
              "      <td>0.000000</td>\n",
              "      <td>1502.000000</td>\n",
              "      <td>-1.000000</td>\n",
              "      <td>9.014000e+03</td>\n",
              "      <td>48.000000</td>\n",
              "      <td>0.0</td>\n",
              "      <td>0.000000</td>\n",
              "      <td>0.000000</td>\n",
              "      <td>0.000000</td>\n",
              "      <td>0.000000</td>\n",
              "      <td>3.720000e+02</td>\n",
              "      <td>6.000000</td>\n",
              "      <td>0.000000</td>\n",
              "      <td>0.000000</td>\n",
              "      <td>0.000000</td>\n",
              "      <td>5920.000000</td>\n",
              "      <td>0.000000</td>\n",
              "      <td>-1.000000</td>\n",
              "      <td>0.000000</td>\n",
              "      <td>0.000000</td>\n",
              "      <td>0.000000</td>\n",
              "      <td>0.000000</td>\n",
              "      <td>0.000000</td>\n",
              "      <td>0.000000</td>\n",
              "      <td>48.000000</td>\n",
              "      <td>0.000000</td>\n",
              "      <td>-1.000000</td>\n",
              "      <td>0.000000</td>\n",
              "      <td>0.000000</td>\n",
              "      <td>0.000000</td>\n",
              "      <td>0.000000</td>\n",
              "      <td>0.000000</td>\n",
              "      <td>-1.000000</td>\n",
              "      <td>1.000000</td>\n",
              "      <td>0.000000</td>\n",
              "      <td>0.000000</td>\n",
              "      <td>0.0</td>\n",
              "      <td>0.000000</td>\n",
              "    </tr>\n",
              "    <tr>\n",
              "      <th>75%</th>\n",
              "      <td>3568.500000</td>\n",
              "      <td>53.000000</td>\n",
              "      <td>1.000000</td>\n",
              "      <td>16826.000000</td>\n",
              "      <td>1.000000</td>\n",
              "      <td>27.000000</td>\n",
              "      <td>0.000000</td>\n",
              "      <td>0.000000</td>\n",
              "      <td>34.000000</td>\n",
              "      <td>1.000000</td>\n",
              "      <td>0.000000</td>\n",
              "      <td>0.0</td>\n",
              "      <td>3.000000</td>\n",
              "      <td>0.000000</td>\n",
              "      <td>0.000000</td>\n",
              "      <td>-1.000000</td>\n",
              "      <td>48.000000</td>\n",
              "      <td>0.000000</td>\n",
              "      <td>48.000000</td>\n",
              "      <td>0.0</td>\n",
              "      <td>138.000000</td>\n",
              "      <td>48.000000</td>\n",
              "      <td>3.000000</td>\n",
              "      <td>-1.000000</td>\n",
              "      <td>28.00000</td>\n",
              "      <td>-1.000000</td>\n",
              "      <td>48.000000</td>\n",
              "      <td>-1.000000</td>\n",
              "      <td>62.000000</td>\n",
              "      <td>0.000000</td>\n",
              "      <td>2.000000</td>\n",
              "      <td>0.0</td>\n",
              "      <td>6.000000</td>\n",
              "      <td>-1.000000</td>\n",
              "      <td>0.0</td>\n",
              "      <td>0.000000</td>\n",
              "      <td>0.000000</td>\n",
              "      <td>68.000000</td>\n",
              "      <td>-1.000000</td>\n",
              "      <td>1.000000</td>\n",
              "      <td>...</td>\n",
              "      <td>0.0</td>\n",
              "      <td>-1.000000</td>\n",
              "      <td>0.000000</td>\n",
              "      <td>1502.000000</td>\n",
              "      <td>-1.000000</td>\n",
              "      <td>9.017000e+03</td>\n",
              "      <td>48.000000</td>\n",
              "      <td>0.0</td>\n",
              "      <td>113.000000</td>\n",
              "      <td>0.000000</td>\n",
              "      <td>56.000000</td>\n",
              "      <td>1.000000</td>\n",
              "      <td>4.760000e+02</td>\n",
              "      <td>6.000000</td>\n",
              "      <td>0.000000</td>\n",
              "      <td>0.000000</td>\n",
              "      <td>0.000000</td>\n",
              "      <td>6011.000000</td>\n",
              "      <td>134.000000</td>\n",
              "      <td>-1.000000</td>\n",
              "      <td>140.500000</td>\n",
              "      <td>27.000000</td>\n",
              "      <td>0.000000</td>\n",
              "      <td>0.000000</td>\n",
              "      <td>2.000000</td>\n",
              "      <td>203.000000</td>\n",
              "      <td>48.000000</td>\n",
              "      <td>27.000000</td>\n",
              "      <td>-1.000000</td>\n",
              "      <td>0.000000</td>\n",
              "      <td>0.000000</td>\n",
              "      <td>0.000000</td>\n",
              "      <td>0.000000</td>\n",
              "      <td>31.000000</td>\n",
              "      <td>-1.000000</td>\n",
              "      <td>1.000000</td>\n",
              "      <td>56.000000</td>\n",
              "      <td>1.000000</td>\n",
              "      <td>0.0</td>\n",
              "      <td>0.000000</td>\n",
              "    </tr>\n",
              "    <tr>\n",
              "      <th>max</th>\n",
              "      <td>59230.000000</td>\n",
              "      <td>65520.000000</td>\n",
              "      <td>139.000000</td>\n",
              "      <td>31033.000000</td>\n",
              "      <td>3.000000</td>\n",
              "      <td>1460.000000</td>\n",
              "      <td>510.000000</td>\n",
              "      <td>3.000000</td>\n",
              "      <td>1350.000000</td>\n",
              "      <td>2000.000000</td>\n",
              "      <td>3.000000</td>\n",
              "      <td>0.0</td>\n",
              "      <td>6000.000000</td>\n",
              "      <td>4.000000</td>\n",
              "      <td>744088.000000</td>\n",
              "      <td>500.000000</td>\n",
              "      <td>99.000000</td>\n",
              "      <td>395545.000000</td>\n",
              "      <td>176.000000</td>\n",
              "      <td>0.0</td>\n",
              "      <td>10010.000000</td>\n",
              "      <td>176.000000</td>\n",
              "      <td>5000.000000</td>\n",
              "      <td>2920.000000</td>\n",
              "      <td>48.00000</td>\n",
              "      <td>1.000000</td>\n",
              "      <td>176.000000</td>\n",
              "      <td>15.000000</td>\n",
              "      <td>1460.000000</td>\n",
              "      <td>5.000000</td>\n",
              "      <td>1000.000000</td>\n",
              "      <td>0.0</td>\n",
              "      <td>6000.000000</td>\n",
              "      <td>99.000000</td>\n",
              "      <td>0.0</td>\n",
              "      <td>49.000000</td>\n",
              "      <td>13.000000</td>\n",
              "      <td>566192.000000</td>\n",
              "      <td>99.000000</td>\n",
              "      <td>17554.000000</td>\n",
              "      <td>...</td>\n",
              "      <td>0.0</td>\n",
              "      <td>1.000000</td>\n",
              "      <td>146.000000</td>\n",
              "      <td>364734.000000</td>\n",
              "      <td>0.000000</td>\n",
              "      <td>1.672601e+07</td>\n",
              "      <td>99.000000</td>\n",
              "      <td>0.0</td>\n",
              "      <td>84760.000000</td>\n",
              "      <td>3661.000000</td>\n",
              "      <td>9440.000000</td>\n",
              "      <td>62.000000</td>\n",
              "      <td>2.989840e+06</td>\n",
              "      <td>34783.000000</td>\n",
              "      <td>45.000000</td>\n",
              "      <td>112061.000000</td>\n",
              "      <td>1006.000000</td>\n",
              "      <td>608296.000000</td>\n",
              "      <td>166440.000000</td>\n",
              "      <td>2920.000000</td>\n",
              "      <td>490004.000000</td>\n",
              "      <td>1460.000000</td>\n",
              "      <td>1086.000000</td>\n",
              "      <td>4.000000</td>\n",
              "      <td>1000.000000</td>\n",
              "      <td>602307.000000</td>\n",
              "      <td>99.000000</td>\n",
              "      <td>1350.000000</td>\n",
              "      <td>90.000000</td>\n",
              "      <td>1460.000000</td>\n",
              "      <td>1113.000000</td>\n",
              "      <td>684329.000000</td>\n",
              "      <td>4720.000000</td>\n",
              "      <td>1474.000000</td>\n",
              "      <td>1460.000000</td>\n",
              "      <td>1.000000</td>\n",
              "      <td>9440.000000</td>\n",
              "      <td>62.000000</td>\n",
              "      <td>0.0</td>\n",
              "      <td>1011.000000</td>\n",
              "    </tr>\n",
              "  </tbody>\n",
              "</table>\n",
              "<p>8 rows × 196 columns</p>\n",
              "</div>"
            ],
            "text/plain": [
              "           src_port  ...  C_dst2src_pay_bytes_rate_min\n",
              "count  12955.000000  ...                  12955.000000\n",
              "mean    2723.592281  ...                      1.614898\n",
              "std     1699.991656  ...                     21.697642\n",
              "min        0.000000  ...                      0.000000\n",
              "25%     2077.000000  ...                      0.000000\n",
              "50%     2079.000000  ...                      0.000000\n",
              "75%     3568.500000  ...                      0.000000\n",
              "max    59230.000000  ...                   1011.000000\n",
              "\n",
              "[8 rows x 196 columns]"
            ]
          },
          "metadata": {
            "tags": []
          },
          "execution_count": 6
        }
      ]
    },
    {
      "cell_type": "code",
      "metadata": {
        "colab": {
          "base_uri": "https://localhost:8080/"
        },
        "id": "oWUpxmlY5Xe_",
        "outputId": "87e755cd-0986-4f71-fb3a-dfcbddffdcd7"
      },
      "source": [
        "#checking for null values \n",
        "\n",
        "null_countdf=df.isnull().mean()*100\n",
        "null_countdf[null_countdf>0]"
      ],
      "execution_count": 7,
      "outputs": [
        {
          "output_type": "execute_result",
          "data": {
            "text/plain": [
              "original_label      0.586646\n",
              "event_generator    96.534157\n",
              "event_signature    96.534157\n",
              "event_priority     96.534157\n",
              "dtype: float64"
            ]
          },
          "metadata": {
            "tags": []
          },
          "execution_count": 7
        }
      ]
    },
    {
      "cell_type": "code",
      "metadata": {
        "id": "ZvD6VPFq6k7X"
      },
      "source": [
        "# since the columns event_generator,event_signature and event_priority are having more than 96% null values ,we will drop these columns\n",
        "\n",
        "df.drop(['original_label','event_generator','event_signature','event_priority'],axis=1,inplace=True)"
      ],
      "execution_count": 8,
      "outputs": []
    },
    {
      "cell_type": "code",
      "metadata": {
        "colab": {
          "base_uri": "https://localhost:8080/"
        },
        "id": "GilxYRZ57OUP",
        "outputId": "e6a3ef04-d9d0-4197-f407-a34e0814bfad"
      },
      "source": [
        "null_countdf=df.isnull().mean()*100\n",
        "null_countdf[null_countdf>0]"
      ],
      "execution_count": 9,
      "outputs": [
        {
          "output_type": "execute_result",
          "data": {
            "text/plain": [
              "Series([], dtype: float64)"
            ]
          },
          "metadata": {
            "tags": []
          },
          "execution_count": 9
        }
      ]
    },
    {
      "cell_type": "code",
      "metadata": {
        "colab": {
          "base_uri": "https://localhost:8080/"
        },
        "id": "NLCu67Qv7ee3",
        "outputId": "fc1fd527-a2b3-4478-8294-779dcb29b8b5"
      },
      "source": [
        "#printing object column\n",
        "objcolmns=df.select_dtypes(include='object').columns\n",
        "objcolmns"
      ],
      "execution_count": 10,
      "outputs": [
        {
          "output_type": "execute_result",
          "data": {
            "text/plain": [
              "Index(['src', 'dst', 'original_dataset', 'ndpi_risk', 'ndpi_detected_protocol',\n",
              "       'protocol', 'http_content_type'],\n",
              "      dtype='object')"
            ]
          },
          "metadata": {
            "tags": []
          },
          "execution_count": 10
        }
      ]
    },
    {
      "cell_type": "code",
      "metadata": {
        "colab": {
          "base_uri": "https://localhost:8080/"
        },
        "id": "AShrgvZv8UHr",
        "outputId": "21bc83c4-c222-4131-fe5c-39ab877b880e"
      },
      "source": [
        "#finding the count cotagorical value in each column\n",
        "for objcol in objcolmns:\n",
        "  print(objcol,\"---\",len(df[objcol].value_counts()))"
      ],
      "execution_count": 11,
      "outputs": [
        {
          "output_type": "stream",
          "text": [
            "src --- 93\n",
            "dst --- 3795\n",
            "original_dataset --- 1\n",
            "ndpi_risk --- 4\n",
            "ndpi_detected_protocol --- 24\n",
            "protocol --- 4\n",
            "http_content_type --- 15\n"
          ],
          "name": "stdout"
        }
      ]
    },
    {
      "cell_type": "code",
      "metadata": {
        "colab": {
          "base_uri": "https://localhost:8080/"
        },
        "id": "HzCMrjQ29dUS",
        "outputId": "2d218d88-d81f-401d-d8b6-a723b2fceef8"
      },
      "source": [
        "#creating a list and adding column which contain morethan 10 catogorical value\n",
        "lstnotreqcol=list()\n",
        "for objcol in objcolmns:\n",
        "  if len(df[objcol].value_counts())>10:\n",
        "    lstnotreqcol.append(objcol)\n",
        "lstnotreqcol"
      ],
      "execution_count": 12,
      "outputs": [
        {
          "output_type": "execute_result",
          "data": {
            "text/plain": [
              "['src', 'dst', 'ndpi_detected_protocol', 'http_content_type']"
            ]
          },
          "metadata": {
            "tags": []
          },
          "execution_count": 12
        }
      ]
    },
    {
      "cell_type": "code",
      "metadata": {
        "colab": {
          "base_uri": "https://localhost:8080/"
        },
        "id": "SYwJCQA6-jVg",
        "outputId": "5fd9d129-6dcc-4488-818a-36ece51eda5f"
      },
      "source": [
        "# Droping column with more value counts\n",
        "df.drop(lstnotreqcol,axis=1,inplace=True)\n",
        "objcolumns=df.select_dtypes(include='object').columns\n",
        "objcolumns"
      ],
      "execution_count": 13,
      "outputs": [
        {
          "output_type": "execute_result",
          "data": {
            "text/plain": [
              "Index(['original_dataset', 'ndpi_risk', 'protocol'], dtype='object')"
            ]
          },
          "metadata": {
            "tags": []
          },
          "execution_count": 13
        }
      ]
    },
    {
      "cell_type": "code",
      "metadata": {
        "colab": {
          "base_uri": "https://localhost:8080/"
        },
        "id": "sVS1Tlif-1-C",
        "outputId": "dcd0fa91-0c37-4cdb-80f6-3e2ca49187a2"
      },
      "source": [
        "print(len(df['ndpi_risk'].value_counts()))\n",
        "df['ndpi_risk'].value_counts()"
      ],
      "execution_count": 14,
      "outputs": [
        {
          "output_type": "stream",
          "text": [
            "4\n"
          ],
          "name": "stdout"
        },
        {
          "output_type": "execute_result",
          "data": {
            "text/plain": [
              "Unrated       8214\n",
              "Acceptable    4594\n",
              "Safe           137\n",
              "Unsafe          10\n",
              "Name: ndpi_risk, dtype: int64"
            ]
          },
          "metadata": {
            "tags": []
          },
          "execution_count": 14
        }
      ]
    },
    {
      "cell_type": "code",
      "metadata": {
        "colab": {
          "base_uri": "https://localhost:8080/"
        },
        "id": "08BEAB_C-4yl",
        "outputId": "9ffb89d8-275f-42b9-e636-e35a91a300df"
      },
      "source": [
        "len(df.columns)"
      ],
      "execution_count": 15,
      "outputs": [
        {
          "output_type": "execute_result",
          "data": {
            "text/plain": [
              "196"
            ]
          },
          "metadata": {
            "tags": []
          },
          "execution_count": 15
        }
      ]
    },
    {
      "cell_type": "code",
      "metadata": {
        "colab": {
          "base_uri": "https://localhost:8080/",
          "height": 204
        },
        "id": "utNYR2K5-7RB",
        "outputId": "8cda66e7-24a1-4e82-8828-d8b02f095184"
      },
      "source": [
        "ndpiriskdf=pd.get_dummies(df['ndpi_risk'],drop_first=True)\n",
        "ndpiriskdf.head()"
      ],
      "execution_count": 16,
      "outputs": [
        {
          "output_type": "execute_result",
          "data": {
            "text/html": [
              "<div>\n",
              "<style scoped>\n",
              "    .dataframe tbody tr th:only-of-type {\n",
              "        vertical-align: middle;\n",
              "    }\n",
              "\n",
              "    .dataframe tbody tr th {\n",
              "        vertical-align: top;\n",
              "    }\n",
              "\n",
              "    .dataframe thead th {\n",
              "        text-align: right;\n",
              "    }\n",
              "</style>\n",
              "<table border=\"1\" class=\"dataframe\">\n",
              "  <thead>\n",
              "    <tr style=\"text-align: right;\">\n",
              "      <th></th>\n",
              "      <th>Safe</th>\n",
              "      <th>Unrated</th>\n",
              "      <th>Unsafe</th>\n",
              "    </tr>\n",
              "  </thead>\n",
              "  <tbody>\n",
              "    <tr>\n",
              "      <th>0</th>\n",
              "      <td>0</td>\n",
              "      <td>0</td>\n",
              "      <td>0</td>\n",
              "    </tr>\n",
              "    <tr>\n",
              "      <th>1</th>\n",
              "      <td>0</td>\n",
              "      <td>0</td>\n",
              "      <td>0</td>\n",
              "    </tr>\n",
              "    <tr>\n",
              "      <th>2</th>\n",
              "      <td>1</td>\n",
              "      <td>0</td>\n",
              "      <td>0</td>\n",
              "    </tr>\n",
              "    <tr>\n",
              "      <th>3</th>\n",
              "      <td>0</td>\n",
              "      <td>0</td>\n",
              "      <td>0</td>\n",
              "    </tr>\n",
              "    <tr>\n",
              "      <th>4</th>\n",
              "      <td>0</td>\n",
              "      <td>0</td>\n",
              "      <td>0</td>\n",
              "    </tr>\n",
              "  </tbody>\n",
              "</table>\n",
              "</div>"
            ],
            "text/plain": [
              "   Safe  Unrated  Unsafe\n",
              "0     0        0       0\n",
              "1     0        0       0\n",
              "2     1        0       0\n",
              "3     0        0       0\n",
              "4     0        0       0"
            ]
          },
          "metadata": {
            "tags": []
          },
          "execution_count": 16
        }
      ]
    },
    {
      "cell_type": "code",
      "metadata": {
        "colab": {
          "base_uri": "https://localhost:8080/"
        },
        "id": "wzwqi6rs-9gE",
        "outputId": "df6c40bc-2f8c-4a0d-9360-5b1ab0d760a5"
      },
      "source": [
        "df['protocol'].value_counts()"
      ],
      "execution_count": 17,
      "outputs": [
        {
          "output_type": "execute_result",
          "data": {
            "text/plain": [
              "TCP     9066\n",
              "UDP     3782\n",
              "ICMP     105\n",
              "254        2\n",
              "Name: protocol, dtype: int64"
            ]
          },
          "metadata": {
            "tags": []
          },
          "execution_count": 17
        }
      ]
    },
    {
      "cell_type": "code",
      "metadata": {
        "colab": {
          "base_uri": "https://localhost:8080/",
          "height": 204
        },
        "id": "HQSizB3c-_kk",
        "outputId": "db42f686-df44-4d9a-bba1-76ea9901daa3"
      },
      "source": [
        "protocoldf=pd.get_dummies(df['protocol'],drop_first=True)\n",
        "protocoldf.head()"
      ],
      "execution_count": 18,
      "outputs": [
        {
          "output_type": "execute_result",
          "data": {
            "text/html": [
              "<div>\n",
              "<style scoped>\n",
              "    .dataframe tbody tr th:only-of-type {\n",
              "        vertical-align: middle;\n",
              "    }\n",
              "\n",
              "    .dataframe tbody tr th {\n",
              "        vertical-align: top;\n",
              "    }\n",
              "\n",
              "    .dataframe thead th {\n",
              "        text-align: right;\n",
              "    }\n",
              "</style>\n",
              "<table border=\"1\" class=\"dataframe\">\n",
              "  <thead>\n",
              "    <tr style=\"text-align: right;\">\n",
              "      <th></th>\n",
              "      <th>ICMP</th>\n",
              "      <th>TCP</th>\n",
              "      <th>UDP</th>\n",
              "    </tr>\n",
              "  </thead>\n",
              "  <tbody>\n",
              "    <tr>\n",
              "      <th>0</th>\n",
              "      <td>0</td>\n",
              "      <td>0</td>\n",
              "      <td>1</td>\n",
              "    </tr>\n",
              "    <tr>\n",
              "      <th>1</th>\n",
              "      <td>0</td>\n",
              "      <td>0</td>\n",
              "      <td>1</td>\n",
              "    </tr>\n",
              "    <tr>\n",
              "      <th>2</th>\n",
              "      <td>0</td>\n",
              "      <td>1</td>\n",
              "      <td>0</td>\n",
              "    </tr>\n",
              "    <tr>\n",
              "      <th>3</th>\n",
              "      <td>0</td>\n",
              "      <td>0</td>\n",
              "      <td>1</td>\n",
              "    </tr>\n",
              "    <tr>\n",
              "      <th>4</th>\n",
              "      <td>0</td>\n",
              "      <td>0</td>\n",
              "      <td>1</td>\n",
              "    </tr>\n",
              "  </tbody>\n",
              "</table>\n",
              "</div>"
            ],
            "text/plain": [
              "   ICMP  TCP  UDP\n",
              "0     0    0    1\n",
              "1     0    0    1\n",
              "2     0    1    0\n",
              "3     0    0    1\n",
              "4     0    0    1"
            ]
          },
          "metadata": {
            "tags": []
          },
          "execution_count": 18
        }
      ]
    },
    {
      "cell_type": "code",
      "metadata": {
        "colab": {
          "base_uri": "https://localhost:8080/"
        },
        "id": "Ho2eskxv_CQp",
        "outputId": "ba23130a-251d-4bb7-ab1a-20312fdb314d"
      },
      "source": [
        "df['original_dataset']"
      ],
      "execution_count": 19,
      "outputs": [
        {
          "output_type": "execute_result",
          "data": {
            "text/plain": [
              "0        CTU13/1\n",
              "1        CTU13/1\n",
              "2        CTU13/1\n",
              "3        CTU13/1\n",
              "4        CTU13/1\n",
              "          ...   \n",
              "12950    CTU13/1\n",
              "12951    CTU13/1\n",
              "12952    CTU13/1\n",
              "12953    CTU13/1\n",
              "12954    CTU13/1\n",
              "Name: original_dataset, Length: 12955, dtype: object"
            ]
          },
          "metadata": {
            "tags": []
          },
          "execution_count": 19
        }
      ]
    },
    {
      "cell_type": "code",
      "metadata": {
        "id": "bnANAcLj_bzL"
      },
      "source": [
        "df.drop(['original_dataset','ndpi_risk','protocol'],axis=1,inplace=True)"
      ],
      "execution_count": 20,
      "outputs": []
    },
    {
      "cell_type": "code",
      "metadata": {
        "id": "311WATte_gIO"
      },
      "source": [
        "#merging new column in to dataset\n",
        "df2=pd.concat([df,ndpiriskdf,protocoldf],axis=1)"
      ],
      "execution_count": 21,
      "outputs": []
    },
    {
      "cell_type": "code",
      "metadata": {
        "colab": {
          "base_uri": "https://localhost:8080/",
          "height": 270
        },
        "id": "hUOzbE9__iuU",
        "outputId": "33002569-e75b-478c-c19b-4965e9bd0225"
      },
      "source": [
        "df2.head()"
      ],
      "execution_count": 22,
      "outputs": [
        {
          "output_type": "execute_result",
          "data": {
            "text/html": [
              "<div>\n",
              "<style scoped>\n",
              "    .dataframe tbody tr th:only-of-type {\n",
              "        vertical-align: middle;\n",
              "    }\n",
              "\n",
              "    .dataframe tbody tr th {\n",
              "        vertical-align: top;\n",
              "    }\n",
              "\n",
              "    .dataframe thead th {\n",
              "        text-align: right;\n",
              "    }\n",
              "</style>\n",
              "<table border=\"1\" class=\"dataframe\">\n",
              "  <thead>\n",
              "    <tr style=\"text-align: right;\">\n",
              "      <th></th>\n",
              "      <th>src_port</th>\n",
              "      <th>dst_port</th>\n",
              "      <th>payload_bytes_first</th>\n",
              "      <th>packet_pay_size-3</th>\n",
              "      <th>C_packets_rst_avg</th>\n",
              "      <th>packet_pay_size-2</th>\n",
              "      <th>dst2src_packets_rate</th>\n",
              "      <th>C_packets_rst_min</th>\n",
              "      <th>C_packets_urg_avg</th>\n",
              "      <th>src2dst_packets_rate</th>\n",
              "      <th>C_packets_fin_avg</th>\n",
              "      <th>C_idletime_max</th>\n",
              "      <th>http_response_status_code</th>\n",
              "      <th>packet_header_size-4</th>\n",
              "      <th>dst2src_inter_time_std</th>\n",
              "      <th>packet_header_size-0</th>\n",
              "      <th>C_packets_rst_std</th>\n",
              "      <th>payload_bytes_max</th>\n",
              "      <th>src2dst_header_bytes_min</th>\n",
              "      <th>C_dst2src_packets_rate_max</th>\n",
              "      <th>packet_pay_size-8</th>\n",
              "      <th>dst2src_header_bytes_min</th>\n",
              "      <th>http_request_version</th>\n",
              "      <th>src2dst_header_bytes_max</th>\n",
              "      <th>dns_query_type</th>\n",
              "      <th>payload_bytes_avg</th>\n",
              "      <th>dst2src_header_bytes_std</th>\n",
              "      <th>C_dst2src_packets_rate_min</th>\n",
              "      <th>C_packets_syn_std</th>\n",
              "      <th>C_src2dst_packets_rate_max</th>\n",
              "      <th>packet_header_size-7</th>\n",
              "      <th>C_packets_syn_max</th>\n",
              "      <th>C_tcp_retransmissions_max</th>\n",
              "      <th>packets_fin</th>\n",
              "      <th>src2dst_pay_bytes</th>\n",
              "      <th>packet_header_size-6</th>\n",
              "      <th>dst2src_packets</th>\n",
              "      <th>inter_time-10</th>\n",
              "      <th>C_packets_ack_avg</th>\n",
              "      <th>src2dst_header_bytes</th>\n",
              "      <th>...</th>\n",
              "      <th>packet_header_size-3</th>\n",
              "      <th>inter_time-0</th>\n",
              "      <th>C_dst2src_pay_bytes_min</th>\n",
              "      <th>dst2src_pay_bytes_std</th>\n",
              "      <th>C_src2dst_header_bytes_avg</th>\n",
              "      <th>C_dst2src_packets_avg</th>\n",
              "      <th>bytes</th>\n",
              "      <th>packets_without_payload</th>\n",
              "      <th>C_tcp_retransmissions_avg</th>\n",
              "      <th>inter_time-1</th>\n",
              "      <th>C_src2dst_pay_bytes_rate_max</th>\n",
              "      <th>inter_time-4</th>\n",
              "      <th>C_dst2src_pay_bytes_max</th>\n",
              "      <th>packet_pay_size-6</th>\n",
              "      <th>dst2src_pay_bytes</th>\n",
              "      <th>payload_bytes_min</th>\n",
              "      <th>tcp_retransmissions</th>\n",
              "      <th>C_packets_fin_min</th>\n",
              "      <th>C_dst2src_packets_rate_avg</th>\n",
              "      <th>dst2src_inter_time_avg</th>\n",
              "      <th>packet_header_size-5</th>\n",
              "      <th>packet_pay_size-1</th>\n",
              "      <th>packet_header_size-10</th>\n",
              "      <th>C_dst2src_pay_bytes_rate_std</th>\n",
              "      <th>src2dst_pay_bytes_std</th>\n",
              "      <th>C_idletime_min</th>\n",
              "      <th>C_src2dst_header_bytes_std</th>\n",
              "      <th>src2dst_pay_bytes_avg</th>\n",
              "      <th>packet_pay_size-9</th>\n",
              "      <th>packet_direction-2</th>\n",
              "      <th>C_src2dst_header_bytes_min</th>\n",
              "      <th>C_dst2src_packets_min</th>\n",
              "      <th>C_packets_urg_max</th>\n",
              "      <th>C_dst2src_pay_bytes_rate_min</th>\n",
              "      <th>Safe</th>\n",
              "      <th>Unrated</th>\n",
              "      <th>Unsafe</th>\n",
              "      <th>ICMP</th>\n",
              "      <th>TCP</th>\n",
              "      <th>UDP</th>\n",
              "    </tr>\n",
              "  </thead>\n",
              "  <tbody>\n",
              "    <tr>\n",
              "      <th>0</th>\n",
              "      <td>137</td>\n",
              "      <td>137</td>\n",
              "      <td>68</td>\n",
              "      <td>68</td>\n",
              "      <td>0</td>\n",
              "      <td>68</td>\n",
              "      <td>0</td>\n",
              "      <td>0</td>\n",
              "      <td>0</td>\n",
              "      <td>0</td>\n",
              "      <td>0</td>\n",
              "      <td>152788</td>\n",
              "      <td>-1</td>\n",
              "      <td>28</td>\n",
              "      <td>0</td>\n",
              "      <td>28</td>\n",
              "      <td>0</td>\n",
              "      <td>68</td>\n",
              "      <td>28</td>\n",
              "      <td>0</td>\n",
              "      <td>50</td>\n",
              "      <td>0</td>\n",
              "      <td>-1</td>\n",
              "      <td>28</td>\n",
              "      <td>-1</td>\n",
              "      <td>59</td>\n",
              "      <td>0</td>\n",
              "      <td>0</td>\n",
              "      <td>0</td>\n",
              "      <td>4</td>\n",
              "      <td>28</td>\n",
              "      <td>0</td>\n",
              "      <td>0</td>\n",
              "      <td>0</td>\n",
              "      <td>3476</td>\n",
              "      <td>28</td>\n",
              "      <td>0</td>\n",
              "      <td>330</td>\n",
              "      <td>0</td>\n",
              "      <td>1624</td>\n",
              "      <td>...</td>\n",
              "      <td>28</td>\n",
              "      <td>0</td>\n",
              "      <td>0</td>\n",
              "      <td>0</td>\n",
              "      <td>324</td>\n",
              "      <td>0</td>\n",
              "      <td>5912</td>\n",
              "      <td>0</td>\n",
              "      <td>0</td>\n",
              "      <td>0</td>\n",
              "      <td>0</td>\n",
              "      <td>420</td>\n",
              "      <td>0</td>\n",
              "      <td>68</td>\n",
              "      <td>0</td>\n",
              "      <td>50</td>\n",
              "      <td>0</td>\n",
              "      <td>0</td>\n",
              "      <td>0</td>\n",
              "      <td>0</td>\n",
              "      <td>28</td>\n",
              "      <td>68</td>\n",
              "      <td>28</td>\n",
              "      <td>0</td>\n",
              "      <td>9</td>\n",
              "      <td>1763</td>\n",
              "      <td>258</td>\n",
              "      <td>59</td>\n",
              "      <td>50</td>\n",
              "      <td>1</td>\n",
              "      <td>168</td>\n",
              "      <td>0</td>\n",
              "      <td>0</td>\n",
              "      <td>0</td>\n",
              "      <td>0</td>\n",
              "      <td>0</td>\n",
              "      <td>0</td>\n",
              "      <td>0</td>\n",
              "      <td>0</td>\n",
              "      <td>1</td>\n",
              "    </tr>\n",
              "    <tr>\n",
              "      <th>1</th>\n",
              "      <td>1025</td>\n",
              "      <td>53</td>\n",
              "      <td>22</td>\n",
              "      <td>45</td>\n",
              "      <td>0</td>\n",
              "      <td>97</td>\n",
              "      <td>0</td>\n",
              "      <td>0</td>\n",
              "      <td>0</td>\n",
              "      <td>0</td>\n",
              "      <td>0</td>\n",
              "      <td>116131</td>\n",
              "      <td>-1</td>\n",
              "      <td>28</td>\n",
              "      <td>29888</td>\n",
              "      <td>28</td>\n",
              "      <td>0</td>\n",
              "      <td>461</td>\n",
              "      <td>28</td>\n",
              "      <td>1000</td>\n",
              "      <td>102</td>\n",
              "      <td>28</td>\n",
              "      <td>-1</td>\n",
              "      <td>28</td>\n",
              "      <td>-1</td>\n",
              "      <td>65</td>\n",
              "      <td>0</td>\n",
              "      <td>0</td>\n",
              "      <td>0</td>\n",
              "      <td>2000</td>\n",
              "      <td>28</td>\n",
              "      <td>0</td>\n",
              "      <td>0</td>\n",
              "      <td>0</td>\n",
              "      <td>1470</td>\n",
              "      <td>28</td>\n",
              "      <td>19</td>\n",
              "      <td>0</td>\n",
              "      <td>0</td>\n",
              "      <td>1232</td>\n",
              "      <td>...</td>\n",
              "      <td>28</td>\n",
              "      <td>0</td>\n",
              "      <td>69</td>\n",
              "      <td>93</td>\n",
              "      <td>68</td>\n",
              "      <td>1</td>\n",
              "      <td>6798</td>\n",
              "      <td>0</td>\n",
              "      <td>0</td>\n",
              "      <td>0</td>\n",
              "      <td>78</td>\n",
              "      <td>0</td>\n",
              "      <td>461</td>\n",
              "      <td>29</td>\n",
              "      <td>2682</td>\n",
              "      <td>22</td>\n",
              "      <td>0</td>\n",
              "      <td>0</td>\n",
              "      <td>228</td>\n",
              "      <td>17993</td>\n",
              "      <td>28</td>\n",
              "      <td>22</td>\n",
              "      <td>28</td>\n",
              "      <td>49</td>\n",
              "      <td>5</td>\n",
              "      <td>1001</td>\n",
              "      <td>23</td>\n",
              "      <td>33</td>\n",
              "      <td>35</td>\n",
              "      <td>0</td>\n",
              "      <td>56</td>\n",
              "      <td>0</td>\n",
              "      <td>0</td>\n",
              "      <td>0</td>\n",
              "      <td>0</td>\n",
              "      <td>0</td>\n",
              "      <td>0</td>\n",
              "      <td>0</td>\n",
              "      <td>0</td>\n",
              "      <td>1</td>\n",
              "    </tr>\n",
              "    <tr>\n",
              "      <th>2</th>\n",
              "      <td>1027</td>\n",
              "      <td>80</td>\n",
              "      <td>0</td>\n",
              "      <td>0</td>\n",
              "      <td>0</td>\n",
              "      <td>0</td>\n",
              "      <td>66</td>\n",
              "      <td>0</td>\n",
              "      <td>0</td>\n",
              "      <td>177</td>\n",
              "      <td>0</td>\n",
              "      <td>0</td>\n",
              "      <td>-1</td>\n",
              "      <td>40</td>\n",
              "      <td>7</td>\n",
              "      <td>48</td>\n",
              "      <td>0</td>\n",
              "      <td>393</td>\n",
              "      <td>40</td>\n",
              "      <td>30</td>\n",
              "      <td>77</td>\n",
              "      <td>40</td>\n",
              "      <td>-1</td>\n",
              "      <td>48</td>\n",
              "      <td>-1</td>\n",
              "      <td>78</td>\n",
              "      <td>3</td>\n",
              "      <td>30</td>\n",
              "      <td>0</td>\n",
              "      <td>60</td>\n",
              "      <td>40</td>\n",
              "      <td>0</td>\n",
              "      <td>0</td>\n",
              "      <td>0</td>\n",
              "      <td>786</td>\n",
              "      <td>40</td>\n",
              "      <td>3</td>\n",
              "      <td>0</td>\n",
              "      <td>3</td>\n",
              "      <td>336</td>\n",
              "      <td>...</td>\n",
              "      <td>40</td>\n",
              "      <td>0</td>\n",
              "      <td>77</td>\n",
              "      <td>0</td>\n",
              "      <td>80</td>\n",
              "      <td>1</td>\n",
              "      <td>1481</td>\n",
              "      <td>8</td>\n",
              "      <td>0</td>\n",
              "      <td>0</td>\n",
              "      <td>23</td>\n",
              "      <td>0</td>\n",
              "      <td>77</td>\n",
              "      <td>393</td>\n",
              "      <td>77</td>\n",
              "      <td>0</td>\n",
              "      <td>0</td>\n",
              "      <td>0</td>\n",
              "      <td>30</td>\n",
              "      <td>14</td>\n",
              "      <td>40</td>\n",
              "      <td>0</td>\n",
              "      <td>40</td>\n",
              "      <td>0</td>\n",
              "      <td>0</td>\n",
              "      <td>0</td>\n",
              "      <td>0</td>\n",
              "      <td>393</td>\n",
              "      <td>0</td>\n",
              "      <td>0</td>\n",
              "      <td>80</td>\n",
              "      <td>1</td>\n",
              "      <td>0</td>\n",
              "      <td>2</td>\n",
              "      <td>1</td>\n",
              "      <td>0</td>\n",
              "      <td>0</td>\n",
              "      <td>0</td>\n",
              "      <td>1</td>\n",
              "      <td>0</td>\n",
              "    </tr>\n",
              "    <tr>\n",
              "      <th>3</th>\n",
              "      <td>138</td>\n",
              "      <td>138</td>\n",
              "      <td>201</td>\n",
              "      <td>178</td>\n",
              "      <td>0</td>\n",
              "      <td>178</td>\n",
              "      <td>0</td>\n",
              "      <td>0</td>\n",
              "      <td>0</td>\n",
              "      <td>0</td>\n",
              "      <td>0</td>\n",
              "      <td>263902</td>\n",
              "      <td>-1</td>\n",
              "      <td>28</td>\n",
              "      <td>0</td>\n",
              "      <td>28</td>\n",
              "      <td>0</td>\n",
              "      <td>201</td>\n",
              "      <td>28</td>\n",
              "      <td>0</td>\n",
              "      <td>201</td>\n",
              "      <td>0</td>\n",
              "      <td>-1</td>\n",
              "      <td>28</td>\n",
              "      <td>-1</td>\n",
              "      <td>194</td>\n",
              "      <td>0</td>\n",
              "      <td>0</td>\n",
              "      <td>0</td>\n",
              "      <td>0</td>\n",
              "      <td>28</td>\n",
              "      <td>0</td>\n",
              "      <td>0</td>\n",
              "      <td>0</td>\n",
              "      <td>4278</td>\n",
              "      <td>28</td>\n",
              "      <td>0</td>\n",
              "      <td>119456</td>\n",
              "      <td>0</td>\n",
              "      <td>616</td>\n",
              "      <td>...</td>\n",
              "      <td>28</td>\n",
              "      <td>0</td>\n",
              "      <td>0</td>\n",
              "      <td>0</td>\n",
              "      <td>61</td>\n",
              "      <td>0</td>\n",
              "      <td>5202</td>\n",
              "      <td>0</td>\n",
              "      <td>0</td>\n",
              "      <td>0</td>\n",
              "      <td>0</td>\n",
              "      <td>0</td>\n",
              "      <td>0</td>\n",
              "      <td>174</td>\n",
              "      <td>0</td>\n",
              "      <td>174</td>\n",
              "      <td>0</td>\n",
              "      <td>0</td>\n",
              "      <td>0</td>\n",
              "      <td>0</td>\n",
              "      <td>28</td>\n",
              "      <td>201</td>\n",
              "      <td>28</td>\n",
              "      <td>0</td>\n",
              "      <td>9</td>\n",
              "      <td>4013</td>\n",
              "      <td>16</td>\n",
              "      <td>194</td>\n",
              "      <td>201</td>\n",
              "      <td>1</td>\n",
              "      <td>56</td>\n",
              "      <td>0</td>\n",
              "      <td>0</td>\n",
              "      <td>0</td>\n",
              "      <td>0</td>\n",
              "      <td>0</td>\n",
              "      <td>0</td>\n",
              "      <td>0</td>\n",
              "      <td>0</td>\n",
              "      <td>1</td>\n",
              "    </tr>\n",
              "    <tr>\n",
              "      <th>4</th>\n",
              "      <td>1035</td>\n",
              "      <td>1900</td>\n",
              "      <td>133</td>\n",
              "      <td>133</td>\n",
              "      <td>0</td>\n",
              "      <td>133</td>\n",
              "      <td>0</td>\n",
              "      <td>0</td>\n",
              "      <td>0</td>\n",
              "      <td>0</td>\n",
              "      <td>0</td>\n",
              "      <td>3005</td>\n",
              "      <td>-1</td>\n",
              "      <td>28</td>\n",
              "      <td>0</td>\n",
              "      <td>28</td>\n",
              "      <td>0</td>\n",
              "      <td>133</td>\n",
              "      <td>28</td>\n",
              "      <td>0</td>\n",
              "      <td>-1</td>\n",
              "      <td>0</td>\n",
              "      <td>-1</td>\n",
              "      <td>28</td>\n",
              "      <td>-1</td>\n",
              "      <td>133</td>\n",
              "      <td>0</td>\n",
              "      <td>0</td>\n",
              "      <td>0</td>\n",
              "      <td>0</td>\n",
              "      <td>-1</td>\n",
              "      <td>0</td>\n",
              "      <td>0</td>\n",
              "      <td>0</td>\n",
              "      <td>798</td>\n",
              "      <td>-1</td>\n",
              "      <td>0</td>\n",
              "      <td>-1</td>\n",
              "      <td>0</td>\n",
              "      <td>168</td>\n",
              "      <td>...</td>\n",
              "      <td>28</td>\n",
              "      <td>0</td>\n",
              "      <td>0</td>\n",
              "      <td>0</td>\n",
              "      <td>56</td>\n",
              "      <td>0</td>\n",
              "      <td>1050</td>\n",
              "      <td>0</td>\n",
              "      <td>0</td>\n",
              "      <td>0</td>\n",
              "      <td>0</td>\n",
              "      <td>3005</td>\n",
              "      <td>0</td>\n",
              "      <td>-1</td>\n",
              "      <td>0</td>\n",
              "      <td>133</td>\n",
              "      <td>0</td>\n",
              "      <td>0</td>\n",
              "      <td>0</td>\n",
              "      <td>0</td>\n",
              "      <td>28</td>\n",
              "      <td>133</td>\n",
              "      <td>-1</td>\n",
              "      <td>0</td>\n",
              "      <td>0</td>\n",
              "      <td>3002</td>\n",
              "      <td>0</td>\n",
              "      <td>133</td>\n",
              "      <td>-1</td>\n",
              "      <td>1</td>\n",
              "      <td>56</td>\n",
              "      <td>0</td>\n",
              "      <td>0</td>\n",
              "      <td>0</td>\n",
              "      <td>0</td>\n",
              "      <td>0</td>\n",
              "      <td>0</td>\n",
              "      <td>0</td>\n",
              "      <td>0</td>\n",
              "      <td>1</td>\n",
              "    </tr>\n",
              "  </tbody>\n",
              "</table>\n",
              "<p>5 rows × 199 columns</p>\n",
              "</div>"
            ],
            "text/plain": [
              "   src_port  dst_port  payload_bytes_first  ...  ICMP  TCP  UDP\n",
              "0       137       137                   68  ...     0    0    1\n",
              "1      1025        53                   22  ...     0    0    1\n",
              "2      1027        80                    0  ...     0    1    0\n",
              "3       138       138                  201  ...     0    0    1\n",
              "4      1035      1900                  133  ...     0    0    1\n",
              "\n",
              "[5 rows x 199 columns]"
            ]
          },
          "metadata": {
            "tags": []
          },
          "execution_count": 22
        }
      ]
    },
    {
      "cell_type": "code",
      "metadata": {
        "colab": {
          "base_uri": "https://localhost:8080/"
        },
        "id": "jt63CotQ_lCV",
        "outputId": "1a78b9ca-3e46-4f57-874c-33d78d09cc25"
      },
      "source": [
        "#Checking for null values \n",
        "df2clmns = df2.isnull().sum()\n",
        "for key,value in df2clmns.iteritems():\n",
        "  print(key,\",\",value)"
      ],
      "execution_count": 23,
      "outputs": [
        {
          "output_type": "stream",
          "text": [
            "src_port , 0\n",
            "dst_port , 0\n",
            "payload_bytes_first , 0\n",
            "packet_pay_size-3 , 0\n",
            "C_packets_rst_avg , 0\n",
            "packet_pay_size-2 , 0\n",
            "dst2src_packets_rate , 0\n",
            "C_packets_rst_min , 0\n",
            "C_packets_urg_avg , 0\n",
            "src2dst_packets_rate , 0\n",
            "C_packets_fin_avg , 0\n",
            "C_idletime_max , 0\n",
            "http_response_status_code , 0\n",
            "packet_header_size-4 , 0\n",
            "dst2src_inter_time_std , 0\n",
            "packet_header_size-0 , 0\n",
            "C_packets_rst_std , 0\n",
            "payload_bytes_max , 0\n",
            "src2dst_header_bytes_min , 0\n",
            "C_dst2src_packets_rate_max , 0\n",
            "packet_pay_size-8 , 0\n",
            "dst2src_header_bytes_min , 0\n",
            "http_request_version , 0\n",
            "src2dst_header_bytes_max , 0\n",
            "dns_query_type , 0\n",
            "payload_bytes_avg , 0\n",
            "dst2src_header_bytes_std , 0\n",
            "C_dst2src_packets_rate_min , 0\n",
            "C_packets_syn_std , 0\n",
            "C_src2dst_packets_rate_max , 0\n",
            "packet_header_size-7 , 0\n",
            "C_packets_syn_max , 0\n",
            "C_tcp_retransmissions_max , 0\n",
            "packets_fin , 0\n",
            "src2dst_pay_bytes , 0\n",
            "packet_header_size-6 , 0\n",
            "dst2src_packets , 0\n",
            "inter_time-10 , 0\n",
            "C_packets_ack_avg , 0\n",
            "src2dst_header_bytes , 0\n",
            "inter_time-9 , 0\n",
            "C_idletime_std , 0\n",
            "C_dst2src_pay_bytes_rate_max , 0\n",
            "packet_direction-5 , 0\n",
            "C_src2dst_pay_bytes_max , 0\n",
            "packet_direction-0 , 0\n",
            "packet_direction-1 , 0\n",
            "inter_time-7 , 0\n",
            "packets_rst , 0\n",
            "C_packets_psh_min , 0\n",
            "C_src2dst_pay_bytes_rate_avg , 0\n",
            "src2dst_inter_time_std , 0\n",
            "C_src2dst_pay_bytes_avg , 0\n",
            "dns_num_answers , 0\n",
            "packet_pay_size-7 , 0\n",
            "C_number_of_contacts , 0\n",
            "detection_completed , 0\n",
            "inter_time-6 , 0\n",
            "src2dst_header_bytes_std , 0\n",
            "packets_ack , 0\n",
            "C_packets_rst_max , 0\n",
            "inter_time-3 , 0\n",
            "dst2src_header_bytes_avg , 0\n",
            "C_duration_avg , 0\n",
            "C_packets_ack_min , 0\n",
            "dns_query_class , 0\n",
            "C_dst2src_pay_bytes_std , 0\n",
            "C_packets_syn_avg , 0\n",
            "C_packets_psh_max , 0\n",
            "C_src2dst_packets_rate_avg , 0\n",
            "dst2src_pay_bytes_min , 0\n",
            "C_dst2src_header_bytes_min , 0\n",
            "src2dst_inter_time_max , 0\n",
            "src2dst_pay_bytes_min , 0\n",
            "http_method , 0\n",
            "C_packets_psh_avg , 0\n",
            "C_dst2src_header_bytes_std , 0\n",
            "C_packets_ack_std , 0\n",
            "flow_use_time , 0\n",
            "inter_time-2 , 0\n",
            "dst2src_inter_time_min , 0\n",
            "C_dst2src_packets_rate_std , 0\n",
            "packet_pay_size-4 , 0\n",
            "C_packets_ack_max , 0\n",
            "C_dst2src_packets_max , 0\n",
            "C_src2dst_pay_bytes_min , 0\n",
            "dns_num_queries , 0\n",
            "inter_time-8 , 0\n",
            "packet_header_size-8 , 0\n",
            "src2dst_pay_bytes_max , 0\n",
            "dst2src_pay_bytes_max , 0\n",
            "C_src2dst_packets_avg , 0\n",
            "C_src2dst_pay_bytes_rate_std , 0\n",
            "response_rel_time , 0\n",
            "packet_pay_size-10 , 0\n",
            "inter_time_min , 0\n",
            "packet_header_size-1 , 0\n",
            "dns_reply_code , 0\n",
            "inter_time_avg , 0\n",
            "C_packets_psh_std , 0\n",
            "src2dst_header_bytes_avg , 0\n",
            "packet_direction-9 , 0\n",
            "C_dst2src_packets_std , 0\n",
            "packet_header_size-9 , 0\n",
            "src2dst_packets , 0\n",
            "payload_bytes , 0\n",
            "packet_pay_size-5 , 0\n",
            "http_num_request_headers , 0\n",
            "packet_header_size-2 , 0\n",
            "packet_direction-4 , 0\n",
            "packet_direction-7 , 0\n",
            "C_tcp_retransmissions_min , 0\n",
            "C_duration_min , 0\n",
            "C_dst2src_pay_bytes_avg , 0\n",
            "dst2src_pay_bytes_avg , 0\n",
            "C_dst2src_header_bytes_max , 0\n",
            "C_packets_syn_min , 0\n",
            "packet_direction-3 , 0\n",
            "http_num_response_headers , 0\n",
            "C_packets_fin_std , 0\n",
            "C_duration_std , 0\n",
            "C_src2dst_header_bytes_max , 0\n",
            "packets_syn , 0\n",
            "C_dst2src_header_bytes_avg , 0\n",
            "C_src2dst_pay_bytes_rate_min , 0\n",
            "packets_psh , 0\n",
            "src2dst_pay_bytes_rate , 0\n",
            "C_tcp_retransmissions_std , 0\n",
            "C_idletime_avg , 0\n",
            "C_src2dst_packets_rate_min , 0\n",
            "C_src2dst_packets_max , 0\n",
            "C_duration_max , 0\n",
            "packet_direction-6 , 0\n",
            "C_packets_fin_max , 0\n",
            "C_packets_urg_std , 0\n",
            "C_src2dst_packets_rate_std , 0\n",
            "dst2src_header_bytes , 0\n",
            "payload_bytes_std , 0\n",
            "C_dst2src_pay_bytes_rate_avg , 0\n",
            "src2dst_inter_time_min , 0\n",
            "flow_duration , 0\n",
            "C_src2dst_pay_bytes_std , 0\n",
            "C_src2dst_packets_min , 0\n",
            "C_packets_urg_min , 0\n",
            "inter_time-5 , 0\n",
            "dst2src_header_bytes_max , 0\n",
            "packet_direction-10 , 0\n",
            "dst2src_inter_time_max , 0\n",
            "packet_pay_size-0 , 0\n",
            "packets , 0\n",
            "inter_time_max , 0\n",
            "inter_time_std , 0\n",
            "C_src2dst_packets_std , 0\n",
            "packets_urg , 0\n",
            "packet_direction-8 , 0\n",
            "dst2src_pay_bytes_rate , 0\n",
            "src2dst_inter_time_avg , 0\n",
            "dns_rsp_type , 0\n",
            "flow_idle_time , 0\n",
            "packet_header_size-3 , 0\n",
            "inter_time-0 , 0\n",
            "C_dst2src_pay_bytes_min , 0\n",
            "dst2src_pay_bytes_std , 0\n",
            "C_src2dst_header_bytes_avg , 0\n",
            "C_dst2src_packets_avg , 0\n",
            "bytes , 0\n",
            "packets_without_payload , 0\n",
            "C_tcp_retransmissions_avg , 0\n",
            "inter_time-1 , 0\n",
            "C_src2dst_pay_bytes_rate_max , 0\n",
            "inter_time-4 , 0\n",
            "C_dst2src_pay_bytes_max , 0\n",
            "packet_pay_size-6 , 0\n",
            "dst2src_pay_bytes , 0\n",
            "payload_bytes_min , 0\n",
            "tcp_retransmissions , 0\n",
            "C_packets_fin_min , 0\n",
            "C_dst2src_packets_rate_avg , 0\n",
            "dst2src_inter_time_avg , 0\n",
            "packet_header_size-5 , 0\n",
            "packet_pay_size-1 , 0\n",
            "packet_header_size-10 , 0\n",
            "C_dst2src_pay_bytes_rate_std , 0\n",
            "src2dst_pay_bytes_std , 0\n",
            "C_idletime_min , 0\n",
            "C_src2dst_header_bytes_std , 0\n",
            "src2dst_pay_bytes_avg , 0\n",
            "packet_pay_size-9 , 0\n",
            "packet_direction-2 , 0\n",
            "C_src2dst_header_bytes_min , 0\n",
            "C_dst2src_packets_min , 0\n",
            "C_packets_urg_max , 0\n",
            "C_dst2src_pay_bytes_rate_min , 0\n",
            "Safe , 0\n",
            "Unrated , 0\n",
            "Unsafe , 0\n",
            "ICMP , 0\n",
            "TCP , 0\n",
            "UDP , 0\n"
          ],
          "name": "stdout"
        }
      ]
    },
    {
      "cell_type": "code",
      "metadata": {
        "colab": {
          "base_uri": "https://localhost:8080/"
        },
        "id": "UbpdlCEg_qbb",
        "outputId": "a8c0482f-e9e7-494b-f14d-e1f46426f89a"
      },
      "source": [
        "# checking class balance of target variable \n",
        "df2['detection_completed'].value_counts()"
      ],
      "execution_count": 24,
      "outputs": [
        {
          "output_type": "execute_result",
          "data": {
            "text/plain": [
              "0    7815\n",
              "1    5140\n",
              "Name: detection_completed, dtype: int64"
            ]
          },
          "metadata": {
            "tags": []
          },
          "execution_count": 24
        }
      ]
    },
    {
      "cell_type": "code",
      "metadata": {
        "id": "bsDQxy3k_vXD"
      },
      "source": [
        "X= df2.drop('detection_completed', axis=1)\n",
        "Y= df2['detection_completed']"
      ],
      "execution_count": 25,
      "outputs": []
    },
    {
      "cell_type": "code",
      "metadata": {
        "colab": {
          "base_uri": "https://localhost:8080/",
          "height": 320
        },
        "id": "O67pyJ5C_zkQ",
        "outputId": "db97059e-a849-4a61-9c04-26ed207b127b"
      },
      "source": [
        "#selecting most importent 10 feature\n",
        "from sklearn.ensemble import ExtraTreesClassifier\n",
        "import matplotlib.pyplot as plt\n",
        "model=ExtraTreesClassifier()\n",
        "model.fit(X,Y)\n",
        "ranked_features=pd.Series(model.feature_importances_,index=X.columns)\n",
        "plt.figure(figsize=(5,5))\n",
        "ranked_features.nlargest(10).plot(kind='barh')\n",
        "plt.show()"
      ],
      "execution_count": 26,
      "outputs": [
        {
          "output_type": "display_data",
          "data": {
            "image/png": "[encoded data removed]",
            "text/plain": [
              "<Figure size 360x360 with 1 Axes>"
            ]
          },
          "metadata": {
            "tags": [],
            "needs_background": "light"
          }
        }
      ]
    },
    {
      "cell_type": "code",
      "metadata": {
        "id": "aonbhvv1A1ys"
      },
      "source": [
        "from sklearn.model_selection import train_test_split,GridSearchCV\n",
        "xtrain,xtest,ytrain,ytest=train_test_split(X,Y,test_size=0.2,random_state=1)"
      ],
      "execution_count": 27,
      "outputs": []
    },
    {
      "cell_type": "code",
      "metadata": {
        "colab": {
          "base_uri": "https://localhost:8080/"
        },
        "id": "TmdRdHIFBdgv",
        "outputId": "6ee5f752-39fa-41a6-ea62-e3a6331692f3"
      },
      "source": [
        "xtrain.shape"
      ],
      "execution_count": 28,
      "outputs": [
        {
          "output_type": "execute_result",
          "data": {
            "text/plain": [
              "(10364, 198)"
            ]
          },
          "metadata": {
            "tags": []
          },
          "execution_count": 28
        }
      ]
    },
    {
      "cell_type": "code",
      "metadata": {
        "colab": {
          "base_uri": "https://localhost:8080/"
        },
        "id": "24HqQcjjBeGV",
        "outputId": "989eeeac-97ba-403e-a36c-ee82b425a96b"
      },
      "source": [
        "from sklearn.ensemble import RandomForestClassifier\n",
        "random_forest_classifier=RandomForestClassifier()\n",
        "random_forest_classifier.fit(xtrain,ytrain)"
      ],
      "execution_count": 29,
      "outputs": [
        {
          "output_type": "execute_result",
          "data": {
            "text/plain": [
              "RandomForestClassifier(bootstrap=True, ccp_alpha=0.0, class_weight=None,\n",
              "                       criterion='gini', max_depth=None, max_features='auto',\n",
              "                       max_leaf_nodes=None, max_samples=None,\n",
              "                       min_impurity_decrease=0.0, min_impurity_split=None,\n",
              "                       min_samples_leaf=1, min_samples_split=2,\n",
              "                       min_weight_fraction_leaf=0.0, n_estimators=100,\n",
              "                       n_jobs=None, oob_score=False, random_state=None,\n",
              "                       verbose=0, warm_start=False)"
            ]
          },
          "metadata": {
            "tags": []
          },
          "execution_count": 29
        }
      ]
    },
    {
      "cell_type": "code",
      "metadata": {
        "colab": {
          "base_uri": "https://localhost:8080/"
        },
        "id": "S23tmLP-ByrI",
        "outputId": "e1f02960-4165-4911-f641-2e668fae98d0"
      },
      "source": [
        "from sklearn.metrics import confusion_matrix,accuracy_score,classification_report\n",
        "y_pred=random_forest_classifier.predict(xtest)\n",
        "print(\"Confusion Matrix:\")\n",
        "print(\"  \")\n",
        "print(confusion_matrix(ytest,y_pred))\n",
        "print(\"---------------\")\n",
        "print(\"  \")\n",
        "print(\"Accuracy Score:\")\n",
        "print(\"  \")\n",
        "print(accuracy_score(ytest,y_pred))\n",
        "print(\"  \")\n",
        "print(\"---------------\")\n",
        "print(\"  \")\n",
        "print(\"Classification Report:\")\n",
        "print(\"  \")\n",
        "print(classification_report(ytest,y_pred))"
      ],
      "execution_count": 30,
      "outputs": [
        {
          "output_type": "stream",
          "text": [
            "Confusion Matrix:\n",
            "  \n",
            "[[1557    1]\n",
            " [   0 1033]]\n",
            "---------------\n",
            "  \n",
            "Accuracy Score:\n",
            "  \n",
            "0.9996140486298727\n",
            "  \n",
            "---------------\n",
            "  \n",
            "Classification Report:\n",
            "  \n",
            "              precision    recall  f1-score   support\n",
            "\n",
            "           0       1.00      1.00      1.00      1558\n",
            "           1       1.00      1.00      1.00      1033\n",
            "\n",
            "    accuracy                           1.00      2591\n",
            "   macro avg       1.00      1.00      1.00      2591\n",
            "weighted avg       1.00      1.00      1.00      2591\n",
            "\n"
          ],
          "name": "stdout"
        }
      ]
    },
    {
      "cell_type": "code",
      "metadata": {
        "colab": {
          "base_uri": "https://localhost:8080/",
          "height": 320
        },
        "id": "l07vOD3yAeUA",
        "outputId": "3e19a54f-d96d-44f1-84a3-d8b58d40bba3"
      },
      "source": [
        "#selecting most importent 11 feature\n",
        "from sklearn.ensemble import ExtraTreesClassifier\n",
        "import matplotlib.pyplot as plt\n",
        "model=ExtraTreesClassifier()\n",
        "model.fit(X,Y)\n",
        "ranked_features=pd.Series(model.feature_importances_,index=X.columns)\n",
        "plt.figure(figsize=(5,5))\n",
        "ranked_features.nlargest(11).plot(kind='barh')\n",
        "plt.show()"
      ],
      "execution_count": 31,
      "outputs": [
        {
          "output_type": "display_data",
          "data": {
            "image/png": "[encoded data removed]",
            "text/plain": [
              "<Figure size 360x360 with 1 Axes>"
            ]
          },
          "metadata": {
            "tags": [],
            "needs_background": "light"
          }
        }
      ]
    },
    {
      "cell_type": "code",
      "metadata": {
        "id": "2OjKWY1fBVkx"
      },
      "source": [
        "from sklearn.model_selection import train_test_split,GridSearchCV\n",
        "xtrain,xtest,ytrain,ytest=train_test_split(X,Y,test_size=0.2,random_state=1)"
      ],
      "execution_count": 32,
      "outputs": []
    },
    {
      "cell_type": "code",
      "metadata": {
        "colab": {
          "base_uri": "https://localhost:8080/"
        },
        "id": "Nf8ax0jvBVX3",
        "outputId": "2433ce7a-66d5-4bb3-df85-7a61ad14980f"
      },
      "source": [
        "xtrain.shape"
      ],
      "execution_count": 33,
      "outputs": [
        {
          "output_type": "execute_result",
          "data": {
            "text/plain": [
              "(10364, 198)"
            ]
          },
          "metadata": {
            "tags": []
          },
          "execution_count": 33
        }
      ]
    },
    {
      "cell_type": "code",
      "metadata": {
        "colab": {
          "base_uri": "https://localhost:8080/"
        },
        "id": "AzVxFywVCxv1",
        "outputId": "77911227-7bfe-45f7-b9fc-5ca7c476106d"
      },
      "source": [
        "from sklearn.ensemble import RandomForestClassifier\n",
        "random_forest_classifier=RandomForestClassifier()\n",
        "random_forest_classifier.fit(xtrain,ytrain)"
      ],
      "execution_count": 34,
      "outputs": [
        {
          "output_type": "execute_result",
          "data": {
            "text/plain": [
              "RandomForestClassifier(bootstrap=True, ccp_alpha=0.0, class_weight=None,\n",
              "                       criterion='gini', max_depth=None, max_features='auto',\n",
              "                       max_leaf_nodes=None, max_samples=None,\n",
              "                       min_impurity_decrease=0.0, min_impurity_split=None,\n",
              "                       min_samples_leaf=1, min_samples_split=2,\n",
              "                       min_weight_fraction_leaf=0.0, n_estimators=100,\n",
              "                       n_jobs=None, oob_score=False, random_state=None,\n",
              "                       verbose=0, warm_start=False)"
            ]
          },
          "metadata": {
            "tags": []
          },
          "execution_count": 34
        }
      ]
    },
    {
      "cell_type": "code",
      "metadata": {
        "colab": {
          "base_uri": "https://localhost:8080/"
        },
        "id": "Z7AncEk_CFCy",
        "outputId": "dad0b6fb-d497-4ed7-84be-feb880d81d7c"
      },
      "source": [
        "from sklearn.metrics import confusion_matrix,accuracy_score,classification_report\n",
        "y_pred=random_forest_classifier.predict(xtest)\n",
        "print(\"Confusion Matrix:\")\n",
        "print(\"  \")\n",
        "print(confusion_matrix(ytest,y_pred))\n",
        "print(\"---------------\")\n",
        "print(\"  \")\n",
        "print(\"Accuracy Score:\")\n",
        "print(\"  \")\n",
        "print(accuracy_score(ytest,y_pred))\n",
        "print(\"  \")\n",
        "print(\"---------------\")\n",
        "print(\"  \")\n",
        "print(\"Classification Report:\")\n",
        "print(\"  \")\n",
        "print(classification_report(ytest,y_pred))"
      ],
      "execution_count": 35,
      "outputs": [
        {
          "output_type": "stream",
          "text": [
            "Confusion Matrix:\n",
            "  \n",
            "[[1557    1]\n",
            " [   0 1033]]\n",
            "---------------\n",
            "  \n",
            "Accuracy Score:\n",
            "  \n",
            "0.9996140486298727\n",
            "  \n",
            "---------------\n",
            "  \n",
            "Classification Report:\n",
            "  \n",
            "              precision    recall  f1-score   support\n",
            "\n",
            "           0       1.00      1.00      1.00      1558\n",
            "           1       1.00      1.00      1.00      1033\n",
            "\n",
            "    accuracy                           1.00      2591\n",
            "   macro avg       1.00      1.00      1.00      2591\n",
            "weighted avg       1.00      1.00      1.00      2591\n",
            "\n"
          ],
          "name": "stdout"
        }
      ]
    },
    {
      "cell_type": "code",
      "metadata": {
        "id": "iUo112MOCIzv"
      },
      "source": [
        ""
      ],
      "execution_count": 35,
      "outputs": []
    },
    {
      "cell_type": "code",
      "metadata": {
        "colab": {
          "base_uri": "https://localhost:8080/",
          "height": 320
        },
        "id": "4FSF7qyBAjX0",
        "outputId": "a52fdcb6-a7bc-4763-d0c3-938dcdde472d"
      },
      "source": [
        "#selecting most importent 12 feature\n",
        "from sklearn.ensemble import ExtraTreesClassifier\n",
        "import matplotlib.pyplot as plt\n",
        "model=ExtraTreesClassifier()\n",
        "model.fit(X,Y)\n",
        "ranked_features=pd.Series(model.feature_importances_,index=X.columns)\n",
        "plt.figure(figsize=(5,5))\n",
        "ranked_features.nlargest(12).plot(kind='barh')\n",
        "plt.show()"
      ],
      "execution_count": 36,
      "outputs": [
        {
          "output_type": "display_data",
          "data": {
            "image/png": "[encoded data removed]",
            "text/plain": [
              "<Figure size 360x360 with 1 Axes>"
            ]
          },
          "metadata": {
            "tags": [],
            "needs_background": "light"
          }
        }
      ]
    },
    {
      "cell_type": "code",
      "metadata": {
        "id": "Tj2-6p4dA6Ww"
      },
      "source": [
        "from sklearn.model_selection import train_test_split,GridSearchCV\n",
        "xtrain,xtest,ytrain,ytest=train_test_split(X,Y,test_size=0.2,random_state=1)"
      ],
      "execution_count": 37,
      "outputs": []
    },
    {
      "cell_type": "code",
      "metadata": {
        "colab": {
          "base_uri": "https://localhost:8080/"
        },
        "id": "0dgR4HENBQMn",
        "outputId": "e549bd19-5da4-4492-8471-69253266b981"
      },
      "source": [
        "xtrain.shape"
      ],
      "execution_count": 38,
      "outputs": [
        {
          "output_type": "execute_result",
          "data": {
            "text/plain": [
              "(10364, 198)"
            ]
          },
          "metadata": {
            "tags": []
          },
          "execution_count": 38
        }
      ]
    },
    {
      "cell_type": "code",
      "metadata": {
        "colab": {
          "base_uri": "https://localhost:8080/"
        },
        "id": "rhjuaQP3DURU",
        "outputId": "ff5ef128-b57d-4135-8c76-6153e35fb69d"
      },
      "source": [
        "from sklearn.ensemble import RandomForestClassifier\n",
        "random_forest_classifier=RandomForestClassifier()\n",
        "random_forest_classifier.fit(xtrain,ytrain)"
      ],
      "execution_count": 39,
      "outputs": [
        {
          "output_type": "execute_result",
          "data": {
            "text/plain": [
              "RandomForestClassifier(bootstrap=True, ccp_alpha=0.0, class_weight=None,\n",
              "                       criterion='gini', max_depth=None, max_features='auto',\n",
              "                       max_leaf_nodes=None, max_samples=None,\n",
              "                       min_impurity_decrease=0.0, min_impurity_split=None,\n",
              "                       min_samples_leaf=1, min_samples_split=2,\n",
              "                       min_weight_fraction_leaf=0.0, n_estimators=100,\n",
              "                       n_jobs=None, oob_score=False, random_state=None,\n",
              "                       verbose=0, warm_start=False)"
            ]
          },
          "metadata": {
            "tags": []
          },
          "execution_count": 39
        }
      ]
    },
    {
      "cell_type": "code",
      "metadata": {
        "colab": {
          "base_uri": "https://localhost:8080/"
        },
        "id": "lpfIEk9rCejd",
        "outputId": "21f689ba-2cce-4aec-e4ab-38e4649702a8"
      },
      "source": [
        "from sklearn.metrics import confusion_matrix,accuracy_score,classification_report\n",
        "y_pred=random_forest_classifier.predict(xtest)\n",
        "print(\"Confusion Matrix:\")\n",
        "print(\"  \")\n",
        "print(confusion_matrix(ytest,y_pred))\n",
        "print(\"---------------\")\n",
        "print(\"  \")\n",
        "print(\"Accuracy Score:\")\n",
        "print(\"  \")\n",
        "print(accuracy_score(ytest,y_pred))\n",
        "print(\"  \")\n",
        "print(\"---------------\")\n",
        "print(\"  \")\n",
        "print(\"Classification Report:\")\n",
        "print(\"  \")\n",
        "print(classification_report(ytest,y_pred))"
      ],
      "execution_count": 40,
      "outputs": [
        {
          "output_type": "stream",
          "text": [
            "Confusion Matrix:\n",
            "  \n",
            "[[1557    1]\n",
            " [   0 1033]]\n",
            "---------------\n",
            "  \n",
            "Accuracy Score:\n",
            "  \n",
            "0.9996140486298727\n",
            "  \n",
            "---------------\n",
            "  \n",
            "Classification Report:\n",
            "  \n",
            "              precision    recall  f1-score   support\n",
            "\n",
            "           0       1.00      1.00      1.00      1558\n",
            "           1       1.00      1.00      1.00      1033\n",
            "\n",
            "    accuracy                           1.00      2591\n",
            "   macro avg       1.00      1.00      1.00      2591\n",
            "weighted avg       1.00      1.00      1.00      2591\n",
            "\n"
          ],
          "name": "stdout"
        }
      ]
    },
    {
      "cell_type": "code",
      "metadata": {
        "colab": {
          "base_uri": "https://localhost:8080/",
          "height": 320
        },
        "id": "Nbzzu4gsAls7",
        "outputId": "76165004-5873-420f-8875-42c0917a0ed2"
      },
      "source": [
        "#selecting most importent 13 feature\n",
        "from sklearn.ensemble import ExtraTreesClassifier\n",
        "import matplotlib.pyplot as plt\n",
        "model=ExtraTreesClassifier()\n",
        "model.fit(X,Y)\n",
        "ranked_features=pd.Series(model.feature_importances_,index=X.columns)\n",
        "plt.figure(figsize=(5,5))\n",
        "ranked_features.nlargest(13).plot(kind='barh')\n",
        "plt.show()"
      ],
      "execution_count": 41,
      "outputs": [
        {
          "output_type": "display_data",
          "data": {
            "image/png": "[encoded data removed]",
            "text/plain": [
              "<Figure size 360x360 with 1 Axes>"
            ]
          },
          "metadata": {
            "tags": [],
            "needs_background": "light"
          }
        }
      ]
    },
    {
      "cell_type": "code",
      "metadata": {
        "id": "shpejAMnA_rE"
      },
      "source": [
        "from sklearn.model_selection import train_test_split,GridSearchCV\n",
        "xtrain,xtest,ytrain,ytest=train_test_split(X,Y,test_size=0.2,random_state=1)"
      ],
      "execution_count": 42,
      "outputs": []
    },
    {
      "cell_type": "code",
      "metadata": {
        "colab": {
          "base_uri": "https://localhost:8080/"
        },
        "id": "rnPyb1bMBNe4",
        "outputId": "767a6293-4878-4811-8044-ce19da3b0330"
      },
      "source": [
        "xtrain.shape"
      ],
      "execution_count": 43,
      "outputs": [
        {
          "output_type": "execute_result",
          "data": {
            "text/plain": [
              "(10364, 198)"
            ]
          },
          "metadata": {
            "tags": []
          },
          "execution_count": 43
        }
      ]
    },
    {
      "cell_type": "code",
      "metadata": {
        "colab": {
          "base_uri": "https://localhost:8080/"
        },
        "id": "d65XIhQ_DXRb",
        "outputId": "3db248ed-57e9-476b-eb6b-a8bb29e3f894"
      },
      "source": [
        "from sklearn.ensemble import RandomForestClassifier\n",
        "random_forest_classifier=RandomForestClassifier()\n",
        "random_forest_classifier.fit(xtrain,ytrain)"
      ],
      "execution_count": 44,
      "outputs": [
        {
          "output_type": "execute_result",
          "data": {
            "text/plain": [
              "RandomForestClassifier(bootstrap=True, ccp_alpha=0.0, class_weight=None,\n",
              "                       criterion='gini', max_depth=None, max_features='auto',\n",
              "                       max_leaf_nodes=None, max_samples=None,\n",
              "                       min_impurity_decrease=0.0, min_impurity_split=None,\n",
              "                       min_samples_leaf=1, min_samples_split=2,\n",
              "                       min_weight_fraction_leaf=0.0, n_estimators=100,\n",
              "                       n_jobs=None, oob_score=False, random_state=None,\n",
              "                       verbose=0, warm_start=False)"
            ]
          },
          "metadata": {
            "tags": []
          },
          "execution_count": 44
        }
      ]
    },
    {
      "cell_type": "code",
      "metadata": {
        "colab": {
          "base_uri": "https://localhost:8080/"
        },
        "id": "QfVseAMODh7Q",
        "outputId": "5d440b8d-157b-4c10-e577-9caf648e2b79"
      },
      "source": [
        "from sklearn.metrics import confusion_matrix,accuracy_score,classification_report\n",
        "y_pred=random_forest_classifier.predict(xtest)\n",
        "print(\"Confusion Matrix:\")\n",
        "print(\"  \")\n",
        "print(confusion_matrix(ytest,y_pred))\n",
        "print(\"---------------\")\n",
        "print(\"  \")\n",
        "print(\"Accuracy Score:\")\n",
        "print(\"  \")\n",
        "print(accuracy_score(ytest,y_pred))\n",
        "print(\"  \")\n",
        "print(\"---------------\")\n",
        "print(\"  \")\n",
        "print(\"Classification Report:\")\n",
        "print(\"  \")\n",
        "print(classification_report(ytest,y_pred))"
      ],
      "execution_count": 45,
      "outputs": [
        {
          "output_type": "stream",
          "text": [
            "Confusion Matrix:\n",
            "  \n",
            "[[1557    1]\n",
            " [   0 1033]]\n",
            "---------------\n",
            "  \n",
            "Accuracy Score:\n",
            "  \n",
            "0.9996140486298727\n",
            "  \n",
            "---------------\n",
            "  \n",
            "Classification Report:\n",
            "  \n",
            "              precision    recall  f1-score   support\n",
            "\n",
            "           0       1.00      1.00      1.00      1558\n",
            "           1       1.00      1.00      1.00      1033\n",
            "\n",
            "    accuracy                           1.00      2591\n",
            "   macro avg       1.00      1.00      1.00      2591\n",
            "weighted avg       1.00      1.00      1.00      2591\n",
            "\n"
          ],
          "name": "stdout"
        }
      ]
    },
    {
      "cell_type": "code",
      "metadata": {
        "colab": {
          "base_uri": "https://localhost:8080/",
          "height": 320
        },
        "id": "xv5YJf70Ao4i",
        "outputId": "b73e57b4-4c33-40aa-fcaa-ed47fd6a484e"
      },
      "source": [
        "#selecting most importent 14 feature\n",
        "from sklearn.ensemble import ExtraTreesClassifier\n",
        "import matplotlib.pyplot as plt\n",
        "model=ExtraTreesClassifier()\n",
        "model.fit(X,Y)\n",
        "ranked_features=pd.Series(model.feature_importances_,index=X.columns)\n",
        "plt.figure(figsize=(5,5))\n",
        "ranked_features.nlargest(14).plot(kind='barh')\n",
        "plt.show()"
      ],
      "execution_count": 46,
      "outputs": [
        {
          "output_type": "display_data",
          "data": {
            "image/png": "[encoded data removed]",
            "text/plain": [
              "<Figure size 360x360 with 1 Axes>"
            ]
          },
          "metadata": {
            "tags": [],
            "needs_background": "light"
          }
        }
      ]
    },
    {
      "cell_type": "code",
      "metadata": {
        "id": "-pTTPZCvBCsA"
      },
      "source": [
        "from sklearn.model_selection import train_test_split,GridSearchCV\n",
        "xtrain,xtest,ytrain,ytest=train_test_split(X,Y,test_size=0.2,random_state=1)"
      ],
      "execution_count": 47,
      "outputs": []
    },
    {
      "cell_type": "code",
      "metadata": {
        "colab": {
          "base_uri": "https://localhost:8080/"
        },
        "id": "XWNfiOHwBLTX",
        "outputId": "b9a02c8a-e64c-436a-d00c-b82004cc2ebf"
      },
      "source": [
        "xtrain.shape"
      ],
      "execution_count": 48,
      "outputs": [
        {
          "output_type": "execute_result",
          "data": {
            "text/plain": [
              "(10364, 198)"
            ]
          },
          "metadata": {
            "tags": []
          },
          "execution_count": 48
        }
      ]
    },
    {
      "cell_type": "code",
      "metadata": {
        "colab": {
          "base_uri": "https://localhost:8080/"
        },
        "id": "DPXNF9DPDZrf",
        "outputId": "f124b2d4-5ccd-4c57-dbc6-ca686609c75f"
      },
      "source": [
        "from sklearn.ensemble import RandomForestClassifier\n",
        "random_forest_classifier=RandomForestClassifier()\n",
        "random_forest_classifier.fit(xtrain,ytrain)"
      ],
      "execution_count": 49,
      "outputs": [
        {
          "output_type": "execute_result",
          "data": {
            "text/plain": [
              "RandomForestClassifier(bootstrap=True, ccp_alpha=0.0, class_weight=None,\n",
              "                       criterion='gini', max_depth=None, max_features='auto',\n",
              "                       max_leaf_nodes=None, max_samples=None,\n",
              "                       min_impurity_decrease=0.0, min_impurity_split=None,\n",
              "                       min_samples_leaf=1, min_samples_split=2,\n",
              "                       min_weight_fraction_leaf=0.0, n_estimators=100,\n",
              "                       n_jobs=None, oob_score=False, random_state=None,\n",
              "                       verbose=0, warm_start=False)"
            ]
          },
          "metadata": {
            "tags": []
          },
          "execution_count": 49
        }
      ]
    },
    {
      "cell_type": "code",
      "metadata": {
        "colab": {
          "base_uri": "https://localhost:8080/",
          "height": 320
        },
        "id": "wAO0i4CwArfv",
        "outputId": "3cafad51-7ffb-4108-9504-259dba74dbb3"
      },
      "source": [
        "#selecting most importent 15 feature\n",
        "from sklearn.ensemble import ExtraTreesClassifier\n",
        "import matplotlib.pyplot as plt\n",
        "model=ExtraTreesClassifier()\n",
        "model.fit(X,Y)\n",
        "ranked_features=pd.Series(model.feature_importances_,index=X.columns)\n",
        "plt.figure(figsize=(5,5))\n",
        "ranked_features.nlargest(15).plot(kind='barh')\n",
        "plt.show()"
      ],
      "execution_count": 50,
      "outputs": [
        {
          "output_type": "display_data",
          "data": {
            "image/png": "[encoded data removed]",
            "text/plain": [
              "<Figure size 360x360 with 1 Axes>"
            ]
          },
          "metadata": {
            "tags": [],
            "needs_background": "light"
          }
        }
      ]
    },
    {
      "cell_type": "code",
      "metadata": {
        "id": "sy-QG1qBAuJl"
      },
      "source": [
        "from sklearn.model_selection import train_test_split,GridSearchCV\n",
        "xtrain,xtest,ytrain,ytest=train_test_split(X,Y,test_size=0.2,random_state=1)"
      ],
      "execution_count": 51,
      "outputs": []
    },
    {
      "cell_type": "code",
      "metadata": {
        "colab": {
          "base_uri": "https://localhost:8080/"
        },
        "id": "7Cjz2NgABGqR",
        "outputId": "acdb3256-d714-40d6-a05b-5b611ce17cf1"
      },
      "source": [
        "xtrain.shape"
      ],
      "execution_count": 52,
      "outputs": [
        {
          "output_type": "execute_result",
          "data": {
            "text/plain": [
              "(10364, 198)"
            ]
          },
          "metadata": {
            "tags": []
          },
          "execution_count": 52
        }
      ]
    },
    {
      "cell_type": "code",
      "metadata": {
        "colab": {
          "base_uri": "https://localhost:8080/"
        },
        "id": "nOfmYOq0BJ3t",
        "outputId": "cc88878d-a247-46fd-8997-1722d92a4323"
      },
      "source": [
        "from sklearn.ensemble import RandomForestClassifier\n",
        "random_forest_classifier=RandomForestClassifier()\n",
        "random_forest_classifier.fit(xtrain,ytrain)"
      ],
      "execution_count": 53,
      "outputs": [
        {
          "output_type": "execute_result",
          "data": {
            "text/plain": [
              "RandomForestClassifier(bootstrap=True, ccp_alpha=0.0, class_weight=None,\n",
              "                       criterion='gini', max_depth=None, max_features='auto',\n",
              "                       max_leaf_nodes=None, max_samples=None,\n",
              "                       min_impurity_decrease=0.0, min_impurity_split=None,\n",
              "                       min_samples_leaf=1, min_samples_split=2,\n",
              "                       min_weight_fraction_leaf=0.0, n_estimators=100,\n",
              "                       n_jobs=None, oob_score=False, random_state=None,\n",
              "                       verbose=0, warm_start=False)"
            ]
          },
          "metadata": {
            "tags": []
          },
          "execution_count": 53
        }
      ]
    },
    {
      "cell_type": "code",
      "metadata": {
        "id": "r90KeaJwDdcw"
      },
      "source": [
        ""
      ],
      "execution_count": 53,
      "outputs": []
    }
  ]
}